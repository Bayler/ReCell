{
 "cells": [
  {
   "cell_type": "markdown",
   "metadata": {
    "id": "p2r5o8SR4rqH"
   },
   "source": [
    "# Supervised Learning - Foundations Project: ReCell "
   ]
  },
  {
   "cell_type": "markdown",
   "metadata": {
    "id": "3SntBY974rqJ"
   },
   "source": [
    "## Problem Statement"
   ]
  },
  {
   "cell_type": "markdown",
   "metadata": {
    "id": "RA_GXJwuhmVz"
   },
   "source": [
    "### Business Context\n",
    "\n",
    "Buying and selling used phones and tablets used to be something that happened on a handful of online marketplace sites. But the used and refurbished device market has grown considerably over the past decade, and a new IDC (International Data Corporation) forecast predicts that the used phone market would be worth \\\\$52.7bn by 2023 with a compound annual growth rate (CAGR) of 13.6% from 2018 to 2023. This growth can be attributed to an uptick in demand for used phones and tablets that offer considerable savings compared with new models.\n",
    "\n",
    "Refurbished and used devices continue to provide cost-effective alternatives to both consumers and businesses that are looking to save money when purchasing one. There are plenty of other benefits associated with the used device market. Used and refurbished devices can be sold with warranties and can also be insured with proof of purchase. Third-party vendors/platforms, such as Verizon, Amazon, etc., provide attractive offers to customers for refurbished devices. Maximizing the longevity of devices through second-hand trade also reduces their environmental impact and helps in recycling and reducing waste. The impact of the COVID-19 outbreak may further boost this segment as consumers cut back on discretionary spending and buy phones and tablets only for immediate needs.\n",
    "\n",
    " \n",
    "### Objective\n",
    "\n",
    "The rising potential of this comparatively under-the-radar market fuels the need for an ML-based solution to develop a dynamic pricing strategy for used and refurbished devices. ReCell, a startup aiming to tap the potential in this market, has hired you as a data scientist. They want you to analyze the data provided and build a linear regression model to predict the price of a used phone/tablet and identify factors that significantly influence it.\n",
    "\n",
    " \n",
    "### Data Description\n",
    "\n",
    "The data contains the different attributes of used/refurbished phones and tablets. The data was collected in the year 2021. The detailed data dictionary is given below.\n",
    "\n",
    "\n",
    "- brand_name: Name of manufacturing brand\n",
    "- os: OS on which the device runs\n",
    "- screen_size: Size of the screen in cm\n",
    "- 4g: Whether 4G is available or not\n",
    "- 5g: Whether 5G is available or not\n",
    "- main_camera_mp: Resolution of the rear camera in megapixels\n",
    "- selfie_camera_mp: Resolution of the front camera in megapixels\n",
    "- int_memory: Amount of internal memory (ROM) in GB\n",
    "- ram: Amount of RAM in GB\n",
    "- battery: Energy capacity of the device battery in mAh\n",
    "- weight: Weight of the device in grams\n",
    "- release_year: Year when the device model was released\n",
    "- days_used: Number of days the used/refurbished device has been used\n",
    "- normalized_new_price: Normalized price of a new device of the same model in euros\n",
    "- normalized_used_price: Normalized price of the used/refurbished device in euros"
   ]
  },
  {
   "cell_type": "markdown",
   "metadata": {
    "id": "v_-uuGqH-qTt"
   },
   "source": [
    "## Importing necessary libraries"
   ]
  },
  {
   "cell_type": "code",
   "execution_count": 129,
   "metadata": {
    "id": "zeF8YaNKDPyK"
   },
   "outputs": [],
   "source": [
    "#Pandas allows us to organize our dataset inside a dataframe while numpy allows us to use high-level mathematical functions.\n",
    "import pandas as pd\n",
    "import numpy as np\n",
    "\n",
    "#For Data Visualization, let's import Seaborn and Matplotlib. Matplotlib allows us to plot using Python.\n",
    "\n",
    "import matplotlib.pyplot as plt\n",
    "\n",
    "#Seaborn is a high-level visualization library that sits on top of matplotlib.\n",
    "import seaborn as sns\n",
    "\n",
    "#We will use Scikit-learn to build model. Let's import all the useful algorithms we will need from this library.\n",
    "\n",
    "#We will use LinearRegression model from scikit-learn to predict the price\n",
    "from sklearn.linear_model import LinearRegression\n",
    "\n",
    "#train_test_split will allow us to split our dataset into training and testing sets.\n",
    "from sklearn.model_selection import train_test_split\n",
    "\n",
    "#These metrics will help in model performance checking.\n",
    "from sklearn.metrics import mean_squared_error, mean_absolute_error, r2_score"
   ]
  },
  {
   "cell_type": "markdown",
   "metadata": {
    "id": "xxhpZv9y-qTw"
   },
   "source": [
    "## Loading the dataset"
   ]
  },
  {
   "cell_type": "code",
   "execution_count": 130,
   "metadata": {
    "id": "ZJwX9wuc4rqL"
   },
   "outputs": [],
   "source": [
    "# Using the Pandas library, we can read in our data and store it inside the variable `df` \n",
    "\n",
    "df = pd.read_csv('used_device_data.csv')"
   ]
  },
  {
   "cell_type": "code",
   "execution_count": 131,
   "metadata": {},
   "outputs": [
    {
     "data": {
      "text/html": [
       "<div>\n",
       "<style scoped>\n",
       "    .dataframe tbody tr th:only-of-type {\n",
       "        vertical-align: middle;\n",
       "    }\n",
       "\n",
       "    .dataframe tbody tr th {\n",
       "        vertical-align: top;\n",
       "    }\n",
       "\n",
       "    .dataframe thead th {\n",
       "        text-align: right;\n",
       "    }\n",
       "</style>\n",
       "<table border=\"1\" class=\"dataframe\">\n",
       "  <thead>\n",
       "    <tr style=\"text-align: right;\">\n",
       "      <th></th>\n",
       "      <th>brand_name</th>\n",
       "      <th>os</th>\n",
       "      <th>screen_size</th>\n",
       "      <th>4g</th>\n",
       "      <th>5g</th>\n",
       "      <th>main_camera_mp</th>\n",
       "      <th>selfie_camera_mp</th>\n",
       "      <th>int_memory</th>\n",
       "      <th>ram</th>\n",
       "      <th>battery</th>\n",
       "      <th>weight</th>\n",
       "      <th>release_year</th>\n",
       "      <th>days_used</th>\n",
       "      <th>normalized_used_price</th>\n",
       "      <th>normalized_new_price</th>\n",
       "    </tr>\n",
       "  </thead>\n",
       "  <tbody>\n",
       "    <tr>\n",
       "      <th>0</th>\n",
       "      <td>Honor</td>\n",
       "      <td>Android</td>\n",
       "      <td>14.50</td>\n",
       "      <td>yes</td>\n",
       "      <td>no</td>\n",
       "      <td>13.0</td>\n",
       "      <td>5.0</td>\n",
       "      <td>64.0</td>\n",
       "      <td>3.0</td>\n",
       "      <td>3020.0</td>\n",
       "      <td>146.0</td>\n",
       "      <td>2020</td>\n",
       "      <td>127</td>\n",
       "      <td>4.307572</td>\n",
       "      <td>4.715100</td>\n",
       "    </tr>\n",
       "    <tr>\n",
       "      <th>1</th>\n",
       "      <td>Honor</td>\n",
       "      <td>Android</td>\n",
       "      <td>17.30</td>\n",
       "      <td>yes</td>\n",
       "      <td>yes</td>\n",
       "      <td>13.0</td>\n",
       "      <td>16.0</td>\n",
       "      <td>128.0</td>\n",
       "      <td>8.0</td>\n",
       "      <td>4300.0</td>\n",
       "      <td>213.0</td>\n",
       "      <td>2020</td>\n",
       "      <td>325</td>\n",
       "      <td>5.162097</td>\n",
       "      <td>5.519018</td>\n",
       "    </tr>\n",
       "    <tr>\n",
       "      <th>2</th>\n",
       "      <td>Honor</td>\n",
       "      <td>Android</td>\n",
       "      <td>16.69</td>\n",
       "      <td>yes</td>\n",
       "      <td>yes</td>\n",
       "      <td>13.0</td>\n",
       "      <td>8.0</td>\n",
       "      <td>128.0</td>\n",
       "      <td>8.0</td>\n",
       "      <td>4200.0</td>\n",
       "      <td>213.0</td>\n",
       "      <td>2020</td>\n",
       "      <td>162</td>\n",
       "      <td>5.111084</td>\n",
       "      <td>5.884631</td>\n",
       "    </tr>\n",
       "    <tr>\n",
       "      <th>3</th>\n",
       "      <td>Honor</td>\n",
       "      <td>Android</td>\n",
       "      <td>25.50</td>\n",
       "      <td>yes</td>\n",
       "      <td>yes</td>\n",
       "      <td>13.0</td>\n",
       "      <td>8.0</td>\n",
       "      <td>64.0</td>\n",
       "      <td>6.0</td>\n",
       "      <td>7250.0</td>\n",
       "      <td>480.0</td>\n",
       "      <td>2020</td>\n",
       "      <td>345</td>\n",
       "      <td>5.135387</td>\n",
       "      <td>5.630961</td>\n",
       "    </tr>\n",
       "    <tr>\n",
       "      <th>4</th>\n",
       "      <td>Honor</td>\n",
       "      <td>Android</td>\n",
       "      <td>15.32</td>\n",
       "      <td>yes</td>\n",
       "      <td>no</td>\n",
       "      <td>13.0</td>\n",
       "      <td>8.0</td>\n",
       "      <td>64.0</td>\n",
       "      <td>3.0</td>\n",
       "      <td>5000.0</td>\n",
       "      <td>185.0</td>\n",
       "      <td>2020</td>\n",
       "      <td>293</td>\n",
       "      <td>4.389995</td>\n",
       "      <td>4.947837</td>\n",
       "    </tr>\n",
       "    <tr>\n",
       "      <th>5</th>\n",
       "      <td>Honor</td>\n",
       "      <td>Android</td>\n",
       "      <td>16.23</td>\n",
       "      <td>yes</td>\n",
       "      <td>no</td>\n",
       "      <td>13.0</td>\n",
       "      <td>8.0</td>\n",
       "      <td>64.0</td>\n",
       "      <td>4.0</td>\n",
       "      <td>4000.0</td>\n",
       "      <td>176.0</td>\n",
       "      <td>2020</td>\n",
       "      <td>223</td>\n",
       "      <td>4.413889</td>\n",
       "      <td>5.060694</td>\n",
       "    </tr>\n",
       "    <tr>\n",
       "      <th>6</th>\n",
       "      <td>Honor</td>\n",
       "      <td>Android</td>\n",
       "      <td>13.84</td>\n",
       "      <td>yes</td>\n",
       "      <td>no</td>\n",
       "      <td>8.0</td>\n",
       "      <td>5.0</td>\n",
       "      <td>32.0</td>\n",
       "      <td>2.0</td>\n",
       "      <td>3020.0</td>\n",
       "      <td>144.0</td>\n",
       "      <td>2020</td>\n",
       "      <td>234</td>\n",
       "      <td>3.878259</td>\n",
       "      <td>4.518958</td>\n",
       "    </tr>\n",
       "    <tr>\n",
       "      <th>7</th>\n",
       "      <td>Honor</td>\n",
       "      <td>Android</td>\n",
       "      <td>15.77</td>\n",
       "      <td>yes</td>\n",
       "      <td>no</td>\n",
       "      <td>13.0</td>\n",
       "      <td>8.0</td>\n",
       "      <td>64.0</td>\n",
       "      <td>4.0</td>\n",
       "      <td>3400.0</td>\n",
       "      <td>164.0</td>\n",
       "      <td>2020</td>\n",
       "      <td>219</td>\n",
       "      <td>4.729421</td>\n",
       "      <td>5.188726</td>\n",
       "    </tr>\n",
       "    <tr>\n",
       "      <th>8</th>\n",
       "      <td>Honor</td>\n",
       "      <td>Android</td>\n",
       "      <td>15.32</td>\n",
       "      <td>yes</td>\n",
       "      <td>no</td>\n",
       "      <td>13.0</td>\n",
       "      <td>16.0</td>\n",
       "      <td>128.0</td>\n",
       "      <td>6.0</td>\n",
       "      <td>4000.0</td>\n",
       "      <td>165.0</td>\n",
       "      <td>2020</td>\n",
       "      <td>161</td>\n",
       "      <td>4.886054</td>\n",
       "      <td>5.299916</td>\n",
       "    </tr>\n",
       "    <tr>\n",
       "      <th>9</th>\n",
       "      <td>Honor</td>\n",
       "      <td>Android</td>\n",
       "      <td>16.23</td>\n",
       "      <td>yes</td>\n",
       "      <td>no</td>\n",
       "      <td>13.0</td>\n",
       "      <td>8.0</td>\n",
       "      <td>128.0</td>\n",
       "      <td>6.0</td>\n",
       "      <td>4000.0</td>\n",
       "      <td>176.0</td>\n",
       "      <td>2020</td>\n",
       "      <td>327</td>\n",
       "      <td>4.773224</td>\n",
       "      <td>5.073610</td>\n",
       "    </tr>\n",
       "  </tbody>\n",
       "</table>\n",
       "</div>"
      ],
      "text/plain": [
       "  brand_name       os  screen_size   4g   5g  main_camera_mp  \\\n",
       "0      Honor  Android        14.50  yes   no            13.0   \n",
       "1      Honor  Android        17.30  yes  yes            13.0   \n",
       "2      Honor  Android        16.69  yes  yes            13.0   \n",
       "3      Honor  Android        25.50  yes  yes            13.0   \n",
       "4      Honor  Android        15.32  yes   no            13.0   \n",
       "5      Honor  Android        16.23  yes   no            13.0   \n",
       "6      Honor  Android        13.84  yes   no             8.0   \n",
       "7      Honor  Android        15.77  yes   no            13.0   \n",
       "8      Honor  Android        15.32  yes   no            13.0   \n",
       "9      Honor  Android        16.23  yes   no            13.0   \n",
       "\n",
       "   selfie_camera_mp  int_memory  ram  battery  weight  release_year  \\\n",
       "0               5.0        64.0  3.0   3020.0   146.0          2020   \n",
       "1              16.0       128.0  8.0   4300.0   213.0          2020   \n",
       "2               8.0       128.0  8.0   4200.0   213.0          2020   \n",
       "3               8.0        64.0  6.0   7250.0   480.0          2020   \n",
       "4               8.0        64.0  3.0   5000.0   185.0          2020   \n",
       "5               8.0        64.0  4.0   4000.0   176.0          2020   \n",
       "6               5.0        32.0  2.0   3020.0   144.0          2020   \n",
       "7               8.0        64.0  4.0   3400.0   164.0          2020   \n",
       "8              16.0       128.0  6.0   4000.0   165.0          2020   \n",
       "9               8.0       128.0  6.0   4000.0   176.0          2020   \n",
       "\n",
       "   days_used  normalized_used_price  normalized_new_price  \n",
       "0        127               4.307572              4.715100  \n",
       "1        325               5.162097              5.519018  \n",
       "2        162               5.111084              5.884631  \n",
       "3        345               5.135387              5.630961  \n",
       "4        293               4.389995              4.947837  \n",
       "5        223               4.413889              5.060694  \n",
       "6        234               3.878259              4.518958  \n",
       "7        219               4.729421              5.188726  \n",
       "8        161               4.886054              5.299916  \n",
       "9        327               4.773224              5.073610  "
      ]
     },
     "execution_count": 131,
     "metadata": {},
     "output_type": "execute_result"
    }
   ],
   "source": [
    "#Let's have a quick glance at the first 10 rows of data.\n",
    "df.head(10)"
   ]
  },
  {
   "cell_type": "code",
   "execution_count": 132,
   "metadata": {},
   "outputs": [
    {
     "data": {
      "text/plain": [
       "(3454, 15)"
      ]
     },
     "execution_count": 132,
     "metadata": {},
     "output_type": "execute_result"
    }
   ],
   "source": [
    "#We can check for the number of rows and columns inside the dataset using the `shape` method.\n",
    "df.shape"
   ]
  },
  {
   "cell_type": "markdown",
   "metadata": {},
   "source": [
    "As shown above, this dataset has 3454 rows and 15 columns."
   ]
  },
  {
   "cell_type": "markdown",
   "metadata": {
    "id": "UvpMDcaaMKtI"
   },
   "source": [
    "## Data Overview"
   ]
  },
  {
   "cell_type": "markdown",
   "metadata": {
    "id": "tIiCRwqZ54_C"
   },
   "source": [
    "- Observations\n",
    "- Sanity checks"
   ]
  },
  {
   "cell_type": "code",
   "execution_count": 133,
   "metadata": {},
   "outputs": [
    {
     "name": "stdout",
     "output_type": "stream",
     "text": [
      "<class 'pandas.core.frame.DataFrame'>\n",
      "RangeIndex: 3454 entries, 0 to 3453\n",
      "Data columns (total 15 columns):\n",
      " #   Column                 Non-Null Count  Dtype  \n",
      "---  ------                 --------------  -----  \n",
      " 0   brand_name             3454 non-null   object \n",
      " 1   os                     3454 non-null   object \n",
      " 2   screen_size            3454 non-null   float64\n",
      " 3   4g                     3454 non-null   object \n",
      " 4   5g                     3454 non-null   object \n",
      " 5   main_camera_mp         3275 non-null   float64\n",
      " 6   selfie_camera_mp       3452 non-null   float64\n",
      " 7   int_memory             3450 non-null   float64\n",
      " 8   ram                    3450 non-null   float64\n",
      " 9   battery                3448 non-null   float64\n",
      " 10  weight                 3447 non-null   float64\n",
      " 11  release_year           3454 non-null   int64  \n",
      " 12  days_used              3454 non-null   int64  \n",
      " 13  normalized_used_price  3454 non-null   float64\n",
      " 14  normalized_new_price   3454 non-null   float64\n",
      "dtypes: float64(9), int64(2), object(4)\n",
      "memory usage: 404.9+ KB\n"
     ]
    }
   ],
   "source": [
    "#The `info()` method prints information about a DataFrame such as the index dtype and columns, non-null values and memory usage\n",
    "df.info()"
   ]
  },
  {
   "cell_type": "markdown",
   "metadata": {},
   "source": [
    "- Four columns are categorical while the other nine are all having numerical values.\n",
    "- The categorical data types include the columns 4g, 5g, brand_name, and os.\n",
    "- The numerical data types include all the other columns.\n",
    "- We can observe that column 5, 6, 7, 8, 9 have missing values.\n",
    "- The memory usage is 404.9+ KB\n",
    "- normalized_used_price will be our dependent variable."
   ]
  },
  {
   "cell_type": "code",
   "execution_count": 134,
   "metadata": {},
   "outputs": [
    {
     "data": {
      "text/html": [
       "<div>\n",
       "<style scoped>\n",
       "    .dataframe tbody tr th:only-of-type {\n",
       "        vertical-align: middle;\n",
       "    }\n",
       "\n",
       "    .dataframe tbody tr th {\n",
       "        vertical-align: top;\n",
       "    }\n",
       "\n",
       "    .dataframe thead th {\n",
       "        text-align: right;\n",
       "    }\n",
       "</style>\n",
       "<table border=\"1\" class=\"dataframe\">\n",
       "  <thead>\n",
       "    <tr style=\"text-align: right;\">\n",
       "      <th></th>\n",
       "      <th>screen_size</th>\n",
       "      <th>main_camera_mp</th>\n",
       "      <th>selfie_camera_mp</th>\n",
       "      <th>int_memory</th>\n",
       "      <th>ram</th>\n",
       "      <th>battery</th>\n",
       "      <th>weight</th>\n",
       "      <th>release_year</th>\n",
       "      <th>days_used</th>\n",
       "      <th>normalized_used_price</th>\n",
       "      <th>normalized_new_price</th>\n",
       "    </tr>\n",
       "  </thead>\n",
       "  <tbody>\n",
       "    <tr>\n",
       "      <th>count</th>\n",
       "      <td>3454.000000</td>\n",
       "      <td>3275.000000</td>\n",
       "      <td>3452.000000</td>\n",
       "      <td>3450.000000</td>\n",
       "      <td>3450.000000</td>\n",
       "      <td>3448.000000</td>\n",
       "      <td>3447.000000</td>\n",
       "      <td>3454.000000</td>\n",
       "      <td>3454.000000</td>\n",
       "      <td>3454.000000</td>\n",
       "      <td>3454.000000</td>\n",
       "    </tr>\n",
       "    <tr>\n",
       "      <th>mean</th>\n",
       "      <td>13.713115</td>\n",
       "      <td>9.460208</td>\n",
       "      <td>6.554229</td>\n",
       "      <td>54.573099</td>\n",
       "      <td>4.036122</td>\n",
       "      <td>3133.402697</td>\n",
       "      <td>182.751871</td>\n",
       "      <td>2015.965258</td>\n",
       "      <td>674.869716</td>\n",
       "      <td>4.364712</td>\n",
       "      <td>5.233107</td>\n",
       "    </tr>\n",
       "    <tr>\n",
       "      <th>std</th>\n",
       "      <td>3.805280</td>\n",
       "      <td>4.815461</td>\n",
       "      <td>6.970372</td>\n",
       "      <td>84.972371</td>\n",
       "      <td>1.365105</td>\n",
       "      <td>1299.682844</td>\n",
       "      <td>88.413228</td>\n",
       "      <td>2.298455</td>\n",
       "      <td>248.580166</td>\n",
       "      <td>0.588914</td>\n",
       "      <td>0.683637</td>\n",
       "    </tr>\n",
       "    <tr>\n",
       "      <th>min</th>\n",
       "      <td>5.080000</td>\n",
       "      <td>0.080000</td>\n",
       "      <td>0.000000</td>\n",
       "      <td>0.010000</td>\n",
       "      <td>0.020000</td>\n",
       "      <td>500.000000</td>\n",
       "      <td>69.000000</td>\n",
       "      <td>2013.000000</td>\n",
       "      <td>91.000000</td>\n",
       "      <td>1.536867</td>\n",
       "      <td>2.901422</td>\n",
       "    </tr>\n",
       "    <tr>\n",
       "      <th>25%</th>\n",
       "      <td>12.700000</td>\n",
       "      <td>5.000000</td>\n",
       "      <td>2.000000</td>\n",
       "      <td>16.000000</td>\n",
       "      <td>4.000000</td>\n",
       "      <td>2100.000000</td>\n",
       "      <td>142.000000</td>\n",
       "      <td>2014.000000</td>\n",
       "      <td>533.500000</td>\n",
       "      <td>4.033931</td>\n",
       "      <td>4.790342</td>\n",
       "    </tr>\n",
       "    <tr>\n",
       "      <th>50%</th>\n",
       "      <td>12.830000</td>\n",
       "      <td>8.000000</td>\n",
       "      <td>5.000000</td>\n",
       "      <td>32.000000</td>\n",
       "      <td>4.000000</td>\n",
       "      <td>3000.000000</td>\n",
       "      <td>160.000000</td>\n",
       "      <td>2015.500000</td>\n",
       "      <td>690.500000</td>\n",
       "      <td>4.405133</td>\n",
       "      <td>5.245892</td>\n",
       "    </tr>\n",
       "    <tr>\n",
       "      <th>75%</th>\n",
       "      <td>15.340000</td>\n",
       "      <td>13.000000</td>\n",
       "      <td>8.000000</td>\n",
       "      <td>64.000000</td>\n",
       "      <td>4.000000</td>\n",
       "      <td>4000.000000</td>\n",
       "      <td>185.000000</td>\n",
       "      <td>2018.000000</td>\n",
       "      <td>868.750000</td>\n",
       "      <td>4.755700</td>\n",
       "      <td>5.673718</td>\n",
       "    </tr>\n",
       "    <tr>\n",
       "      <th>max</th>\n",
       "      <td>30.710000</td>\n",
       "      <td>48.000000</td>\n",
       "      <td>32.000000</td>\n",
       "      <td>1024.000000</td>\n",
       "      <td>12.000000</td>\n",
       "      <td>9720.000000</td>\n",
       "      <td>855.000000</td>\n",
       "      <td>2020.000000</td>\n",
       "      <td>1094.000000</td>\n",
       "      <td>6.619433</td>\n",
       "      <td>7.847841</td>\n",
       "    </tr>\n",
       "  </tbody>\n",
       "</table>\n",
       "</div>"
      ],
      "text/plain": [
       "       screen_size  main_camera_mp  selfie_camera_mp   int_memory  \\\n",
       "count  3454.000000     3275.000000       3452.000000  3450.000000   \n",
       "mean     13.713115        9.460208          6.554229    54.573099   \n",
       "std       3.805280        4.815461          6.970372    84.972371   \n",
       "min       5.080000        0.080000          0.000000     0.010000   \n",
       "25%      12.700000        5.000000          2.000000    16.000000   \n",
       "50%      12.830000        8.000000          5.000000    32.000000   \n",
       "75%      15.340000       13.000000          8.000000    64.000000   \n",
       "max      30.710000       48.000000         32.000000  1024.000000   \n",
       "\n",
       "               ram      battery       weight  release_year    days_used  \\\n",
       "count  3450.000000  3448.000000  3447.000000   3454.000000  3454.000000   \n",
       "mean      4.036122  3133.402697   182.751871   2015.965258   674.869716   \n",
       "std       1.365105  1299.682844    88.413228      2.298455   248.580166   \n",
       "min       0.020000   500.000000    69.000000   2013.000000    91.000000   \n",
       "25%       4.000000  2100.000000   142.000000   2014.000000   533.500000   \n",
       "50%       4.000000  3000.000000   160.000000   2015.500000   690.500000   \n",
       "75%       4.000000  4000.000000   185.000000   2018.000000   868.750000   \n",
       "max      12.000000  9720.000000   855.000000   2020.000000  1094.000000   \n",
       "\n",
       "       normalized_used_price  normalized_new_price  \n",
       "count            3454.000000           3454.000000  \n",
       "mean                4.364712              5.233107  \n",
       "std                 0.588914              0.683637  \n",
       "min                 1.536867              2.901422  \n",
       "25%                 4.033931              4.790342  \n",
       "50%                 4.405133              5.245892  \n",
       "75%                 4.755700              5.673718  \n",
       "max                 6.619433              7.847841  "
      ]
     },
     "execution_count": 134,
     "metadata": {},
     "output_type": "execute_result"
    }
   ],
   "source": [
    "#Let's use `describe()` method to return a description of the data. It doesn't include all columns.\n",
    "df.describe()"
   ]
  },
  {
   "cell_type": "code",
   "execution_count": 135,
   "metadata": {},
   "outputs": [
    {
     "data": {
      "text/html": [
       "<div>\n",
       "<style scoped>\n",
       "    .dataframe tbody tr th:only-of-type {\n",
       "        vertical-align: middle;\n",
       "    }\n",
       "\n",
       "    .dataframe tbody tr th {\n",
       "        vertical-align: top;\n",
       "    }\n",
       "\n",
       "    .dataframe thead th {\n",
       "        text-align: right;\n",
       "    }\n",
       "</style>\n",
       "<table border=\"1\" class=\"dataframe\">\n",
       "  <thead>\n",
       "    <tr style=\"text-align: right;\">\n",
       "      <th></th>\n",
       "      <th>count</th>\n",
       "      <th>unique</th>\n",
       "      <th>top</th>\n",
       "      <th>freq</th>\n",
       "      <th>mean</th>\n",
       "      <th>std</th>\n",
       "      <th>min</th>\n",
       "      <th>25%</th>\n",
       "      <th>50%</th>\n",
       "      <th>75%</th>\n",
       "      <th>max</th>\n",
       "    </tr>\n",
       "  </thead>\n",
       "  <tbody>\n",
       "    <tr>\n",
       "      <th>brand_name</th>\n",
       "      <td>3454</td>\n",
       "      <td>34</td>\n",
       "      <td>Others</td>\n",
       "      <td>502</td>\n",
       "      <td>NaN</td>\n",
       "      <td>NaN</td>\n",
       "      <td>NaN</td>\n",
       "      <td>NaN</td>\n",
       "      <td>NaN</td>\n",
       "      <td>NaN</td>\n",
       "      <td>NaN</td>\n",
       "    </tr>\n",
       "    <tr>\n",
       "      <th>os</th>\n",
       "      <td>3454</td>\n",
       "      <td>4</td>\n",
       "      <td>Android</td>\n",
       "      <td>3214</td>\n",
       "      <td>NaN</td>\n",
       "      <td>NaN</td>\n",
       "      <td>NaN</td>\n",
       "      <td>NaN</td>\n",
       "      <td>NaN</td>\n",
       "      <td>NaN</td>\n",
       "      <td>NaN</td>\n",
       "    </tr>\n",
       "    <tr>\n",
       "      <th>screen_size</th>\n",
       "      <td>3454.0</td>\n",
       "      <td>NaN</td>\n",
       "      <td>NaN</td>\n",
       "      <td>NaN</td>\n",
       "      <td>13.713115</td>\n",
       "      <td>3.80528</td>\n",
       "      <td>5.08</td>\n",
       "      <td>12.7</td>\n",
       "      <td>12.83</td>\n",
       "      <td>15.34</td>\n",
       "      <td>30.71</td>\n",
       "    </tr>\n",
       "    <tr>\n",
       "      <th>4g</th>\n",
       "      <td>3454</td>\n",
       "      <td>2</td>\n",
       "      <td>yes</td>\n",
       "      <td>2335</td>\n",
       "      <td>NaN</td>\n",
       "      <td>NaN</td>\n",
       "      <td>NaN</td>\n",
       "      <td>NaN</td>\n",
       "      <td>NaN</td>\n",
       "      <td>NaN</td>\n",
       "      <td>NaN</td>\n",
       "    </tr>\n",
       "    <tr>\n",
       "      <th>5g</th>\n",
       "      <td>3454</td>\n",
       "      <td>2</td>\n",
       "      <td>no</td>\n",
       "      <td>3302</td>\n",
       "      <td>NaN</td>\n",
       "      <td>NaN</td>\n",
       "      <td>NaN</td>\n",
       "      <td>NaN</td>\n",
       "      <td>NaN</td>\n",
       "      <td>NaN</td>\n",
       "      <td>NaN</td>\n",
       "    </tr>\n",
       "    <tr>\n",
       "      <th>main_camera_mp</th>\n",
       "      <td>3275.0</td>\n",
       "      <td>NaN</td>\n",
       "      <td>NaN</td>\n",
       "      <td>NaN</td>\n",
       "      <td>9.460208</td>\n",
       "      <td>4.815461</td>\n",
       "      <td>0.08</td>\n",
       "      <td>5.0</td>\n",
       "      <td>8.0</td>\n",
       "      <td>13.0</td>\n",
       "      <td>48.0</td>\n",
       "    </tr>\n",
       "    <tr>\n",
       "      <th>selfie_camera_mp</th>\n",
       "      <td>3452.0</td>\n",
       "      <td>NaN</td>\n",
       "      <td>NaN</td>\n",
       "      <td>NaN</td>\n",
       "      <td>6.554229</td>\n",
       "      <td>6.970372</td>\n",
       "      <td>0.0</td>\n",
       "      <td>2.0</td>\n",
       "      <td>5.0</td>\n",
       "      <td>8.0</td>\n",
       "      <td>32.0</td>\n",
       "    </tr>\n",
       "    <tr>\n",
       "      <th>int_memory</th>\n",
       "      <td>3450.0</td>\n",
       "      <td>NaN</td>\n",
       "      <td>NaN</td>\n",
       "      <td>NaN</td>\n",
       "      <td>54.573099</td>\n",
       "      <td>84.972371</td>\n",
       "      <td>0.01</td>\n",
       "      <td>16.0</td>\n",
       "      <td>32.0</td>\n",
       "      <td>64.0</td>\n",
       "      <td>1024.0</td>\n",
       "    </tr>\n",
       "    <tr>\n",
       "      <th>ram</th>\n",
       "      <td>3450.0</td>\n",
       "      <td>NaN</td>\n",
       "      <td>NaN</td>\n",
       "      <td>NaN</td>\n",
       "      <td>4.036122</td>\n",
       "      <td>1.365105</td>\n",
       "      <td>0.02</td>\n",
       "      <td>4.0</td>\n",
       "      <td>4.0</td>\n",
       "      <td>4.0</td>\n",
       "      <td>12.0</td>\n",
       "    </tr>\n",
       "    <tr>\n",
       "      <th>battery</th>\n",
       "      <td>3448.0</td>\n",
       "      <td>NaN</td>\n",
       "      <td>NaN</td>\n",
       "      <td>NaN</td>\n",
       "      <td>3133.402697</td>\n",
       "      <td>1299.682844</td>\n",
       "      <td>500.0</td>\n",
       "      <td>2100.0</td>\n",
       "      <td>3000.0</td>\n",
       "      <td>4000.0</td>\n",
       "      <td>9720.0</td>\n",
       "    </tr>\n",
       "    <tr>\n",
       "      <th>weight</th>\n",
       "      <td>3447.0</td>\n",
       "      <td>NaN</td>\n",
       "      <td>NaN</td>\n",
       "      <td>NaN</td>\n",
       "      <td>182.751871</td>\n",
       "      <td>88.413228</td>\n",
       "      <td>69.0</td>\n",
       "      <td>142.0</td>\n",
       "      <td>160.0</td>\n",
       "      <td>185.0</td>\n",
       "      <td>855.0</td>\n",
       "    </tr>\n",
       "    <tr>\n",
       "      <th>release_year</th>\n",
       "      <td>3454.0</td>\n",
       "      <td>NaN</td>\n",
       "      <td>NaN</td>\n",
       "      <td>NaN</td>\n",
       "      <td>2015.965258</td>\n",
       "      <td>2.298455</td>\n",
       "      <td>2013.0</td>\n",
       "      <td>2014.0</td>\n",
       "      <td>2015.5</td>\n",
       "      <td>2018.0</td>\n",
       "      <td>2020.0</td>\n",
       "    </tr>\n",
       "    <tr>\n",
       "      <th>days_used</th>\n",
       "      <td>3454.0</td>\n",
       "      <td>NaN</td>\n",
       "      <td>NaN</td>\n",
       "      <td>NaN</td>\n",
       "      <td>674.869716</td>\n",
       "      <td>248.580166</td>\n",
       "      <td>91.0</td>\n",
       "      <td>533.5</td>\n",
       "      <td>690.5</td>\n",
       "      <td>868.75</td>\n",
       "      <td>1094.0</td>\n",
       "    </tr>\n",
       "    <tr>\n",
       "      <th>normalized_used_price</th>\n",
       "      <td>3454.0</td>\n",
       "      <td>NaN</td>\n",
       "      <td>NaN</td>\n",
       "      <td>NaN</td>\n",
       "      <td>4.364712</td>\n",
       "      <td>0.588914</td>\n",
       "      <td>1.536867</td>\n",
       "      <td>4.033931</td>\n",
       "      <td>4.405133</td>\n",
       "      <td>4.7557</td>\n",
       "      <td>6.619433</td>\n",
       "    </tr>\n",
       "    <tr>\n",
       "      <th>normalized_new_price</th>\n",
       "      <td>3454.0</td>\n",
       "      <td>NaN</td>\n",
       "      <td>NaN</td>\n",
       "      <td>NaN</td>\n",
       "      <td>5.233107</td>\n",
       "      <td>0.683637</td>\n",
       "      <td>2.901422</td>\n",
       "      <td>4.790342</td>\n",
       "      <td>5.245892</td>\n",
       "      <td>5.673718</td>\n",
       "      <td>7.847841</td>\n",
       "    </tr>\n",
       "  </tbody>\n",
       "</table>\n",
       "</div>"
      ],
      "text/plain": [
       "                        count unique      top  freq         mean          std  \\\n",
       "brand_name               3454     34   Others   502          NaN          NaN   \n",
       "os                       3454      4  Android  3214          NaN          NaN   \n",
       "screen_size            3454.0    NaN      NaN   NaN    13.713115      3.80528   \n",
       "4g                       3454      2      yes  2335          NaN          NaN   \n",
       "5g                       3454      2       no  3302          NaN          NaN   \n",
       "main_camera_mp         3275.0    NaN      NaN   NaN     9.460208     4.815461   \n",
       "selfie_camera_mp       3452.0    NaN      NaN   NaN     6.554229     6.970372   \n",
       "int_memory             3450.0    NaN      NaN   NaN    54.573099    84.972371   \n",
       "ram                    3450.0    NaN      NaN   NaN     4.036122     1.365105   \n",
       "battery                3448.0    NaN      NaN   NaN  3133.402697  1299.682844   \n",
       "weight                 3447.0    NaN      NaN   NaN   182.751871    88.413228   \n",
       "release_year           3454.0    NaN      NaN   NaN  2015.965258     2.298455   \n",
       "days_used              3454.0    NaN      NaN   NaN   674.869716   248.580166   \n",
       "normalized_used_price  3454.0    NaN      NaN   NaN     4.364712     0.588914   \n",
       "normalized_new_price   3454.0    NaN      NaN   NaN     5.233107     0.683637   \n",
       "\n",
       "                            min       25%       50%       75%       max  \n",
       "brand_name                  NaN       NaN       NaN       NaN       NaN  \n",
       "os                          NaN       NaN       NaN       NaN       NaN  \n",
       "screen_size                5.08      12.7     12.83     15.34     30.71  \n",
       "4g                          NaN       NaN       NaN       NaN       NaN  \n",
       "5g                          NaN       NaN       NaN       NaN       NaN  \n",
       "main_camera_mp             0.08       5.0       8.0      13.0      48.0  \n",
       "selfie_camera_mp            0.0       2.0       5.0       8.0      32.0  \n",
       "int_memory                 0.01      16.0      32.0      64.0    1024.0  \n",
       "ram                        0.02       4.0       4.0       4.0      12.0  \n",
       "battery                   500.0    2100.0    3000.0    4000.0    9720.0  \n",
       "weight                     69.0     142.0     160.0     185.0     855.0  \n",
       "release_year             2013.0    2014.0    2015.5    2018.0    2020.0  \n",
       "days_used                  91.0     533.5     690.5    868.75    1094.0  \n",
       "normalized_used_price  1.536867  4.033931  4.405133    4.7557  6.619433  \n",
       "normalized_new_price   2.901422  4.790342  5.245892  5.673718  7.847841  "
      ]
     },
     "execution_count": 135,
     "metadata": {},
     "output_type": "execute_result"
    }
   ],
   "source": [
    "# When we add \"all\", it means that all columns of the input will be included in the output.\n",
    "df.describe(include=\"all\").T"
   ]
  },
  {
   "cell_type": "markdown",
   "metadata": {},
   "source": [
    "- The phones in the dataset has 4 unique operating systems. Android operating system tops the list as the most popular os with 3214 phones using it.\n",
    "- The dataset has 34 different phone manufacturing brands.\n",
    "- The number of phones with 4g signal is 2335 while those with 5g is only 152.df = data.copy()df = data.copy()"
   ]
  },
  {
   "cell_type": "code",
   "execution_count": 136,
   "metadata": {},
   "outputs": [],
   "source": [
    "#Lets create a copy of the dataframe. It is good practice to do so to avoid making changes to the original dataframe.\n",
    "df1 = df.copy()"
   ]
  },
  {
   "cell_type": "markdown",
   "metadata": {
    "id": "__7ciGcIDPyk"
   },
   "source": [
    "## Exploratory Data Analysis (EDA)"
   ]
  },
  {
   "cell_type": "markdown",
   "metadata": {
    "id": "3bGVKmh75ri8"
   },
   "source": [
    "- EDA is an important part of any project involving data.\n",
    "- It is important to investigate and understand the data better before building a model with it.\n",
    "- A few questions have been mentioned below which will help you approach the analysis in the right manner and generate insights from the data.\n",
    "- A thorough analysis of the data, in addition to the questions mentioned below, should be done."
   ]
  },
  {
   "cell_type": "markdown",
   "metadata": {
    "id": "oEyqzdJBb0jU"
   },
   "source": [
    "**Questions**:\n",
    "\n",
    "1. What does the distribution of normalized used device prices look like?\n",
    "2. What percentage of the used device market is dominated by Android devices?\n",
    "3. The amount of RAM is important for the smooth functioning of a device. How does the amount of RAM vary with the brand?\n",
    "4. A large battery often increases a device's weight, making it feel uncomfortable in the hands. How does the weight vary for phones and tablets offering large batteries (more than 4500 mAh)?\n",
    "5. Bigger screens are desirable for entertainment purposes as they offer a better viewing experience. How many phones and tablets are available across different brands with a screen size larger than 6 inches?\n",
    "6. A lot of devices nowadays offer great selfie cameras, allowing us to capture our favorite moments with loved ones. What is the distribution of devices offering greater than 8MP selfie cameras across brands?\n",
    "7. Which attributes are highly correlated with the normalized price of a used device?"
   ]
  },
  {
   "cell_type": "code",
   "execution_count": 137,
   "metadata": {},
   "outputs": [],
   "source": [
    "# Let's create a function to label barplots\n",
    "\n",
    "def custom_barplot(data, feature, perc=False, n=None):\n",
    "\n",
    "    total = len(data[feature])  # captures the length of the column\n",
    "    count = data[feature].nunique()\n",
    "    if n is None:\n",
    "        plt.figure(figsize=(count + 1, 5))\n",
    "    else:\n",
    "        plt.figure(figsize=(n + 1, 5))\n",
    "\n",
    "    plt.xticks(rotation=90, fontsize=15)\n",
    "    ax = sns.countplot(\n",
    "        data=data,\n",
    "        x=feature,\n",
    "        palette=\"Paired\",\n",
    "        order=data[feature].value_counts().index[:n].sort_values(),\n",
    "    )\n",
    "\n",
    "    for p in ax.patches:\n",
    "        if perc == True:\n",
    "            label = \"{:.1f}%\".format(\n",
    "                100 * p.get_height() / total\n",
    "            )  # percentage of each class of the category\n",
    "        else:\n",
    "            label = p.get_height()  # count of each level of the category\n",
    "\n",
    "        x = p.get_x() + p.get_width() / 2  # width of the plot\n",
    "        y = p.get_height()  # height of the plot\n",
    "\n",
    "        ax.annotate(\n",
    "            label,\n",
    "            (x, y),\n",
    "            ha=\"center\",\n",
    "            va=\"center\",\n",
    "            size=12,\n",
    "            xytext=(0, 5),\n",
    "            textcoords=\"offset points\",\n",
    "        )  # annotate the percentage\n",
    "\n",
    "    plt.show()  "
   ]
  },
  {
   "cell_type": "markdown",
   "metadata": {
    "id": "cN1lyueHttwW"
   },
   "source": [
    "### 1. Distribution of normalized used and new devices"
   ]
  },
  {
   "cell_type": "code",
   "execution_count": 138,
   "metadata": {},
   "outputs": [
    {
     "data": {
      "image/png": "[encoded data removed]",
      "text/plain": [
       "<Figure size 432x288 with 1 Axes>"
      ]
     },
     "metadata": {
      "needs_background": "light"
     },
     "output_type": "display_data"
    },
    {
     "data": {
      "image/png": "[encoded data removed]",
      "text/plain": [
       "<Figure size 432x288 with 1 Axes>"
      ]
     },
     "metadata": {
      "needs_background": "light"
     },
     "output_type": "display_data"
    }
   ],
   "source": [
    "#Distribution of normalized used price\n",
    "sns.histplot(data=df1,x='normalized_used_price',kde=True)\n",
    "plt.show()\n",
    "sns.boxplot(data=df1,x='normalized_used_price')\n",
    "plt.show()"
   ]
  },
  {
   "cell_type": "code",
   "execution_count": 139,
   "metadata": {},
   "outputs": [
    {
     "data": {
      "image/png": "[encoded data removed]",
      "text/plain": [
       "<Figure size 432x288 with 1 Axes>"
      ]
     },
     "metadata": {
      "needs_background": "light"
     },
     "output_type": "display_data"
    },
    {
     "data": {
      "image/png": "[encoded data removed]",
      "text/plain": [
       "<Figure size 432x288 with 1 Axes>"
      ]
     },
     "metadata": {
      "needs_background": "light"
     },
     "output_type": "display_data"
    }
   ],
   "source": [
    "sns.histplot(data=df1,x='normalized_new_price',kde=True)\n",
    "plt.show()\n",
    "sns.boxplot(data=df1,x='normalized_new_price')\n",
    "plt.show()"
   ]
  },
  {
   "cell_type": "markdown",
   "metadata": {},
   "source": [
    "### 2. Percentage of used devices dominated by Android"
   ]
  },
  {
   "cell_type": "code",
   "execution_count": 140,
   "metadata": {},
   "outputs": [
    {
     "data": {
      "image/png": "[encoded data removed]",
      "text/plain": [
       "<Figure size 360x360 with 1 Axes>"
      ]
     },
     "metadata": {
      "needs_background": "light"
     },
     "output_type": "display_data"
    }
   ],
   "source": [
    "custom_barplot(df1, \"os\", perc=True)"
   ]
  },
  {
   "cell_type": "markdown",
   "metadata": {},
   "source": [
    "Android os dominates the used device market by 93.1%"
   ]
  },
  {
   "cell_type": "markdown",
   "metadata": {},
   "source": [
    "### 3. Amount of RAM important for smooth functioning"
   ]
  },
  {
   "cell_type": "code",
   "execution_count": 141,
   "metadata": {},
   "outputs": [
    {
     "data": {
      "image/png": "[encoded data removed]",
      "text/plain": [
       "<Figure size 1440x720 with 1 Axes>"
      ]
     },
     "metadata": {
      "needs_background": "light"
     },
     "output_type": "display_data"
    }
   ],
   "source": [
    "plt.figure(figsize=(20,10))\n",
    "\n",
    "sns.boxplot(data = df1.sort_values(\"brand_name\", ascending=True), x = \"brand_name\", y=\"ram\");\n",
    "plt.xticks(rotation=90)\n",
    "plt.title(\"How the amount of RAM (in GB) vary with the different manufacturing brands\")\n",
    "plt.show()"
   ]
  },
  {
   "cell_type": "markdown",
   "metadata": {},
   "source": [
    "The minimum (25%, 50%, 75%) and maximum RAM (in GB) for several manufacturing brands are the same i.e. 4GB indicating little variance (spread). However, there are still outliers present (very high or very low RAM (in GB))"
   ]
  },
  {
   "cell_type": "markdown",
   "metadata": {},
   "source": [
    "### 4. How weight varies for phones and tablets offering large batteries"
   ]
  },
  {
   "cell_type": "code",
   "execution_count": 142,
   "metadata": {},
   "outputs": [],
   "source": [
    "df_weightvsbattery = df1[df1[\"battery\"]>4500]"
   ]
  },
  {
   "cell_type": "code",
   "execution_count": 143,
   "metadata": {},
   "outputs": [
    {
     "data": {
      "text/plain": [
       "(341, 15)"
      ]
     },
     "execution_count": 143,
     "metadata": {},
     "output_type": "execute_result"
    }
   ],
   "source": [
    "df_weightvsbattery.shape"
   ]
  },
  {
   "cell_type": "markdown",
   "metadata": {},
   "source": [
    "The dataset has 341 used phones with batteries more than 4500 mAH"
   ]
  },
  {
   "cell_type": "code",
   "execution_count": 144,
   "metadata": {},
   "outputs": [
    {
     "data": {
      "image/png": "[encoded data removed]",
      "text/plain": [
       "<Figure size 720x720 with 5 Axes>"
      ]
     },
     "metadata": {
      "needs_background": "light"
     },
     "output_type": "display_data"
    },
    {
     "name": "stdout",
     "output_type": "stream",
     "text": [
      "The linear correlation factor between weight and battery is: 0.76\n"
     ]
    }
   ],
   "source": [
    "z = sns.pairplot(data = df_weightvsbattery[[\"battery\",\"weight\"]], corner=True, kind=\"reg\")\n",
    "z.fig.set_size_inches(10,10)\n",
    "plt.show()\n",
    "print(\"The linear correlation factor between weight and battery is:\", \\\n",
    "      round(df_weightvsbattery.corr()[\"weight\"][\"battery\"] , 2))"
   ]
  },
  {
   "cell_type": "markdown",
   "metadata": {},
   "source": [
    "From this correlation results betweeen the phone's weight and battery, we can clearly conclude that the phone's weight increases with an increase in the battery. "
   ]
  },
  {
   "cell_type": "markdown",
   "metadata": {},
   "source": [
    "### 5. Phones and tablets are available across different brands with a screen size larger than 6 inches "
   ]
  },
  {
   "cell_type": "code",
   "execution_count": 145,
   "metadata": {},
   "outputs": [],
   "source": [
    "# We need to convert the inches to centimetres. 6 inches is equivalent to 15.24cm\n",
    "df_ls = df1[df1[\"screen_size\"]>15.24]"
   ]
  },
  {
   "cell_type": "code",
   "execution_count": 146,
   "metadata": {},
   "outputs": [
    {
     "data": {
      "text/plain": [
       "(1099, 15)"
      ]
     },
     "execution_count": 146,
     "metadata": {},
     "output_type": "execute_result"
    }
   ],
   "source": [
    "df_ls.shape"
   ]
  },
  {
   "cell_type": "markdown",
   "metadata": {},
   "source": [
    "1099 phones and tablets are available across different brands with a screen size larger than 6 inches"
   ]
  },
  {
   "cell_type": "code",
   "execution_count": 147,
   "metadata": {},
   "outputs": [
    {
     "data": {
      "image/png": "[encoded data removed]",
      "text/plain": [
       "<Figure size 1440x720 with 1 Axes>"
      ]
     },
     "metadata": {
      "needs_background": "light"
     },
     "output_type": "display_data"
    }
   ],
   "source": [
    "plt.figure(figsize=(20,10))\n",
    "\n",
    "ax = sns.countplot(data = df_ls.sort_values(\"brand_name\", ascending=True), x = \"brand_name\");\n",
    "plt.xticks(rotation=90)\n",
    "plt.title(\"Number of phones and tablets available across different brands with a screen size larger than 6 inches\")\n",
    "for p in ax.patches:\n",
    "    label = p.get_height()\n",
    "    x = p.get_x() + p.get_width() / 2 \n",
    "    y = p.get_height() \n",
    "    ax.annotate(label,(x, y),ha=\"center\",va=\"center\",size=12,xytext=(0, 5),textcoords=\"offset points\",)  \n",
    "plt.show()"
   ]
  },
  {
   "cell_type": "markdown",
   "metadata": {},
   "source": [
    "- From these results, we can see that Huawei, Samsung, Vivo, Honor, Oppo, and Lenovo are the top six used phones with screen sizes of more than 6 inches. Huawei tops with 149, followed by 119, 80, 72, 70, and 69 for Samsung, Vivo, Honor, Oppo, and Lenovo respectively.\n",
    "- Coolpad, Google, HTC, Microsoft, Panasonic, and Gionee and the brand names with the least number of used phones with screen sizes of more than 6 inches."
   ]
  },
  {
   "cell_type": "markdown",
   "metadata": {},
   "source": [
    "### 6. Distribution of devices offering greater than 8MP selfie cameras across brands"
   ]
  },
  {
   "cell_type": "code",
   "execution_count": 148,
   "metadata": {},
   "outputs": [],
   "source": [
    "df_bestselfie = df1[df1[\"selfie_camera_mp\"]>8]"
   ]
  },
  {
   "cell_type": "code",
   "execution_count": 149,
   "metadata": {},
   "outputs": [
    {
     "data": {
      "text/plain": [
       "(655, 15)"
      ]
     },
     "execution_count": 149,
     "metadata": {},
     "output_type": "execute_result"
    }
   ],
   "source": [
    "df_bestselfie.shape"
   ]
  },
  {
   "cell_type": "markdown",
   "metadata": {},
   "source": [
    "A total of 655 used phones from different manufacturing brands offer great selfie cameras with more than 8MP."
   ]
  },
  {
   "cell_type": "code",
   "execution_count": 150,
   "metadata": {},
   "outputs": [
    {
     "data": {
      "image/png": "[encoded data removed]",
      "text/plain": [
       "<Figure size 1440x720 with 1 Axes>"
      ]
     },
     "metadata": {
      "needs_background": "light"
     },
     "output_type": "display_data"
    }
   ],
   "source": [
    "plt.figure(figsize=(20,10))\n",
    "\n",
    "ax = sns.countplot(data = df_bestselfie.sort_values(\"brand_name\", ascending=True), x = \"brand_name\");\n",
    "plt.xticks(rotation=90)\n",
    "plt.title(\"Distribution of devices offering greater than 8MP selfie cameras across brands\")\n",
    "for p in ax.patches:\n",
    "    label = p.get_height()\n",
    "    x = p.get_x() + p.get_width() / 2 \n",
    "    y = p.get_height() \n",
    "    ax.annotate(label,(x, y),ha=\"center\",va=\"center\",size=12,xytext=(0, 5),textcoords=\"offset points\",)  \n",
    "plt.show()"
   ]
  },
  {
   "cell_type": "markdown",
   "metadata": {},
   "source": [
    "- Huawei leads the manufacturing brands with 87 used phones with selfie cameras greater than 8MP. It is followed closely with Vivo (78), Oppo (78), and Xiaomi (63).\n",
    "- Acer (1), Blackberry (2), and Panasonic (3) are the used phones with the least number of phones with selfie cameras greater than 8MP."
   ]
  },
  {
   "cell_type": "markdown",
   "metadata": {},
   "source": [
    "### 7. Attributes highly correlated with the normalized price of a used device"
   ]
  },
  {
   "cell_type": "code",
   "execution_count": 151,
   "metadata": {},
   "outputs": [
    {
     "data": {
      "image/png": "[encoded data removed]",
      "text/plain": [
       "<Figure size 1440x432 with 2 Axes>"
      ]
     },
     "metadata": {
      "needs_background": "light"
     },
     "output_type": "display_data"
    }
   ],
   "source": [
    "num_attributes = df1.select_dtypes(include=np.number).columns.to_list()\n",
    "\n",
    "#Lets remove the release_year column as we don't need it. It is a temporal variable\n",
    "num_attributes.remove(\"release_year\") \n",
    "\n",
    "plt.figure(figsize=(20,6))\n",
    "sns.heatmap(df1[num_attributes].corr(), annot=True, vmin=-1, vmax=1, cmap=\"BuPu\", linewidths=0.05).set_title('Attributes correlation');"
   ]
  },
  {
   "cell_type": "markdown",
   "metadata": {},
   "source": [
    "- Attributes that are positively correlated with the normalized price include the screen_size, main_camera_mp, selfie_camera_mp, ram and the battery.\n",
    "- normalized_used_price is highly correlated with normalized_new_price which means the higher the new price the higher the used price tends to increase."
   ]
  },
  {
   "cell_type": "markdown",
   "metadata": {
    "id": "pVn5toJ7MKte"
   },
   "source": [
    "## Data Preprocessing"
   ]
  },
  {
   "cell_type": "markdown",
   "metadata": {
    "id": "YcceZiPd5vGV"
   },
   "source": [
    "- Missing value treatment\n",
    "- Feature engineering (if needed)\n",
    "- Outlier detection and treatment (if needed)\n",
    "- Preparing data for modeling\n",
    "- Any other preprocessing steps (if needed)"
   ]
  },
  {
   "cell_type": "code",
   "execution_count": 152,
   "metadata": {
    "id": "zUi6E9EUMKth"
   },
   "outputs": [
    {
     "data": {
      "text/plain": [
       "brand_name                 0\n",
       "os                         0\n",
       "screen_size                0\n",
       "4g                         0\n",
       "5g                         0\n",
       "main_camera_mp           179\n",
       "selfie_camera_mp           2\n",
       "int_memory                 4\n",
       "ram                        4\n",
       "battery                    6\n",
       "weight                     7\n",
       "release_year               0\n",
       "days_used                  0\n",
       "normalized_used_price      0\n",
       "normalized_new_price       0\n",
       "dtype: int64"
      ]
     },
     "execution_count": 152,
     "metadata": {},
     "output_type": "execute_result"
    }
   ],
   "source": [
    "df1.isnull().sum()"
   ]
  },
  {
   "cell_type": "code",
   "execution_count": 153,
   "metadata": {},
   "outputs": [
    {
     "data": {
      "text/plain": [
       "array(['Honor', 'Others', 'HTC', 'Huawei', 'Infinix', 'Lava', 'Lenovo',\n",
       "       'LG', 'Meizu', 'Micromax', 'Motorola', 'Nokia', 'OnePlus', 'Oppo',\n",
       "       'Realme', 'Samsung', 'Vivo', 'Xiaomi', 'ZTE', 'Apple', 'Asus',\n",
       "       'Coolpad', 'Acer', 'Alcatel', 'BlackBerry', 'Celkon', 'Gionee',\n",
       "       'Google', 'Karbonn', 'Microsoft', 'Panasonic', 'Sony', 'Spice',\n",
       "       'XOLO'], dtype=object)"
      ]
     },
     "execution_count": 153,
     "metadata": {},
     "output_type": "execute_result"
    }
   ],
   "source": [
    "df1[\"brand_name\"].unique()"
   ]
  },
  {
   "cell_type": "code",
   "execution_count": 154,
   "metadata": {},
   "outputs": [
    {
     "data": {
      "text/plain": [
       "['screen_size',\n",
       " 'main_camera_mp',\n",
       " 'selfie_camera_mp',\n",
       " 'int_memory',\n",
       " 'ram',\n",
       " 'battery',\n",
       " 'weight',\n",
       " 'release_year',\n",
       " 'days_used',\n",
       " 'normalized_used_price',\n",
       " 'normalized_new_price']"
      ]
     },
     "execution_count": 154,
     "metadata": {},
     "output_type": "execute_result"
    }
   ],
   "source": [
    "df1.select_dtypes(include = np.number).columns.to_list()"
   ]
  },
  {
   "cell_type": "code",
   "execution_count": 155,
   "metadata": {},
   "outputs": [],
   "source": [
    "medianFiller = lambda x:x.fillna(x.median())\n",
    "\n",
    "brand_names = df1[\"brand_name\"].unique()\n",
    "num_col = df1.select_dtypes(include = np.number).columns.to_list()\n",
    "\n",
    "\n",
    "for item in brand_names:\n",
    "    df1.loc[df1.brand_name==item, num_col] = \\\n",
    "    df1.loc[df1.brand_name==item, num_col].apply(medianFiller, axis=0)"
   ]
  },
  {
   "cell_type": "code",
   "execution_count": 156,
   "metadata": {},
   "outputs": [
    {
     "data": {
      "text/plain": [
       "brand_name                0\n",
       "os                        0\n",
       "screen_size               0\n",
       "4g                        0\n",
       "5g                        0\n",
       "main_camera_mp           10\n",
       "selfie_camera_mp          0\n",
       "int_memory                0\n",
       "ram                       0\n",
       "battery                   0\n",
       "weight                    0\n",
       "release_year              0\n",
       "days_used                 0\n",
       "normalized_used_price     0\n",
       "normalized_new_price      0\n",
       "dtype: int64"
      ]
     },
     "execution_count": 156,
     "metadata": {},
     "output_type": "execute_result"
    }
   ],
   "source": [
    "df1.isnull().sum()"
   ]
  },
  {
   "cell_type": "code",
   "execution_count": 157,
   "metadata": {},
   "outputs": [],
   "source": [
    "df1['main_camera_mp'] = df1['main_camera_mp'].fillna(0)"
   ]
  },
  {
   "cell_type": "code",
   "execution_count": 158,
   "metadata": {},
   "outputs": [
    {
     "data": {
      "text/plain": [
       "brand_name               0\n",
       "os                       0\n",
       "screen_size              0\n",
       "4g                       0\n",
       "5g                       0\n",
       "main_camera_mp           0\n",
       "selfie_camera_mp         0\n",
       "int_memory               0\n",
       "ram                      0\n",
       "battery                  0\n",
       "weight                   0\n",
       "release_year             0\n",
       "days_used                0\n",
       "normalized_used_price    0\n",
       "normalized_new_price     0\n",
       "dtype: int64"
      ]
     },
     "execution_count": 158,
     "metadata": {},
     "output_type": "execute_result"
    }
   ],
   "source": [
    "#Rechecking missing values\n",
    "df1.isnull().sum()"
   ]
  },
  {
   "cell_type": "markdown",
   "metadata": {},
   "source": [
    "We have removed all the missing values."
   ]
  },
  {
   "cell_type": "markdown",
   "metadata": {},
   "source": [
    "- We will now drop the \"RAM\" column as majority of dataset has a constant RAM of 4GB with negligible upper and lower outliers."
   ]
  },
  {
   "cell_type": "code",
   "execution_count": 159,
   "metadata": {},
   "outputs": [
    {
     "data": {
      "image/png": "[encoded data removed]",
      "text/plain": [
       "<Figure size 432x288 with 1 Axes>"
      ]
     },
     "metadata": {
      "needs_background": "light"
     },
     "output_type": "display_data"
    },
    {
     "data": {
      "image/png": "[encoded data removed]",
      "text/plain": [
       "<Figure size 432x288 with 1 Axes>"
      ]
     },
     "metadata": {
      "needs_background": "light"
     },
     "output_type": "display_data"
    }
   ],
   "source": [
    "sns.histplot(data=df1,x='ram',kde=True)\n",
    "plt.show()\n",
    "sns.boxplot(data=df1,x='ram')\n",
    "plt.show()"
   ]
  },
  {
   "cell_type": "code",
   "execution_count": 160,
   "metadata": {},
   "outputs": [],
   "source": [
    "df1.drop(\"ram\", axis=1, inplace=True)"
   ]
  },
  {
   "cell_type": "code",
   "execution_count": 161,
   "metadata": {},
   "outputs": [],
   "source": [
    "num_col.remove(\"ram\")\n",
    "num_col.remove(\"normalized_new_price\")\n",
    "num_col.remove(\"normalized_used_price\")"
   ]
  },
  {
   "cell_type": "code",
   "execution_count": 162,
   "metadata": {},
   "outputs": [
    {
     "data": {
      "image/png": "[encoded data removed]",
      "text/plain": [
       "<Figure size 1440x2160 with 8 Axes>"
      ]
     },
     "metadata": {
      "needs_background": "light"
     },
     "output_type": "display_data"
    }
   ],
   "source": [
    "# let's plot the boxplots of all columns to check for outliers\n",
    "\n",
    "plt.figure(figsize=(20, 30))\n",
    "\n",
    "for i, variable in enumerate(num_col):\n",
    "    plt.subplot(4,3, i + 1)\n",
    "    plt.boxplot(df1[variable], whis=1.5)\n",
    "    plt.tight_layout()\n",
    "    plt.title(variable)\n",
    "\n",
    "plt.show()"
   ]
  },
  {
   "cell_type": "markdown",
   "metadata": {},
   "source": [
    "- We dont have outliers in the days_used and release_year columns\n",
    "- We have both lower and upper outliers in the weight and screen_size column.\n",
    "- The selfie_camera_mp, battery, int_memory, and main_camera_mp have a few upper outliers."
   ]
  },
  {
   "cell_type": "markdown",
   "metadata": {},
   "source": [
    "We will perform a technique known as flooring and capping to remove these outliers. Thereafter, build our model"
   ]
  },
  {
   "cell_type": "code",
   "execution_count": 163,
   "metadata": {},
   "outputs": [],
   "source": [
    "def treat_outliers(df1, col):\n",
    " \n",
    "    Q1 = df1[col].quantile(0.25)  # 25th quantile\n",
    "    Q3 = df1[col].quantile(0.75)  # 75th quantile\n",
    "    IQR = Q3 - Q1\n",
    "    Lower_Whisker = Q1 - 1.5 * IQR\n",
    "    Upper_Whisker = Q3 + 1.5 * IQR\n",
    "\n",
    "    df1[col] = np.clip(df1[col], Lower_Whisker, Upper_Whisker)\n",
    "\n",
    "    return df1\n",
    "\n",
    "\n",
    "def treat_outliers_all(df1, col_list):\n",
    "   \n",
    "    for c in col_list:\n",
    "        df1 = treat_outliers(df1, c)\n",
    "\n",
    "    return df1"
   ]
  },
  {
   "cell_type": "code",
   "execution_count": 164,
   "metadata": {},
   "outputs": [],
   "source": [
    "# Let's apply the function to treat the outliers\n",
    "num_col = df1.select_dtypes(include=np.number).columns.tolist()\n",
    "df1 = treat_outliers_all(df1, num_col)"
   ]
  },
  {
   "cell_type": "code",
   "execution_count": 165,
   "metadata": {},
   "outputs": [
    {
     "data": {
      "image/png": "[encoded data removed]",
      "text/plain": [
       "<Figure size 1440x2160 with 10 Axes>"
      ]
     },
     "metadata": {
      "needs_background": "light"
     },
     "output_type": "display_data"
    }
   ],
   "source": [
    "# let's look at the boxplots to see if the outliers have been treated or not\n",
    "plt.figure(figsize=(20, 30))\n",
    "\n",
    "for i, variable in enumerate(num_col):\n",
    "    plt.subplot(4, 3, i + 1)\n",
    "    plt.boxplot(df1[variable], whis=1.5)\n",
    "    plt.tight_layout()\n",
    "    plt.title(variable)\n",
    "\n",
    "plt.show()"
   ]
  },
  {
   "cell_type": "markdown",
   "metadata": {},
   "source": [
    "We have successfully treated the outliers and removed them."
   ]
  },
  {
   "cell_type": "markdown",
   "metadata": {
    "id": "KNzFis7eEaXj"
   },
   "source": [
    "## EDA"
   ]
  },
  {
   "cell_type": "markdown",
   "metadata": {
    "id": "ZkYW8xGS5xdR"
   },
   "source": [
    "- It is a good idea to explore the data once again after manipulating it."
   ]
  },
  {
   "cell_type": "markdown",
   "metadata": {},
   "source": [
    "### Reanalyzing the linear correlation between the weight and battery of over 4500 mah"
   ]
  },
  {
   "cell_type": "code",
   "execution_count": 166,
   "metadata": {
    "id": "4lcDTGi9EZ1M"
   },
   "outputs": [
    {
     "data": {
      "image/png": "[encoded data removed]",
      "text/plain": [
       "<Figure size 720x720 with 5 Axes>"
      ]
     },
     "metadata": {
      "needs_background": "light"
     },
     "output_type": "display_data"
    },
    {
     "name": "stdout",
     "output_type": "stream",
     "text": [
      "The linear correlation factor between weight and battery is: 0.48\n"
     ]
    }
   ],
   "source": [
    "df_weightvsbattery = df1[df1[\"battery\"]>4500]\n",
    "\n",
    "z = sns.pairplot(data = df_weightvsbattery[[\"battery\",\"weight\"]], corner=True, kind=\"reg\")\n",
    "z.fig.set_size_inches(10,10)\n",
    "plt.show()\n",
    "print(\"The linear correlation factor between weight and battery is:\", \\\n",
    "      round(df_weightvsbattery.corr()[\"weight\"][\"battery\"] , 2))"
   ]
  },
  {
   "cell_type": "markdown",
   "metadata": {},
   "source": [
    "The linear correlation factor has reduced from 0.76 to 0.48 after we've treated the outliers. This indicates that the correlation has become weaker. "
   ]
  },
  {
   "cell_type": "markdown",
   "metadata": {},
   "source": [
    "### Reanalyzing the attributes highly correlated with the normalized price of a used device"
   ]
  },
  {
   "cell_type": "code",
   "execution_count": 167,
   "metadata": {},
   "outputs": [
    {
     "data": {
      "image/png": "[encoded data removed]",
      "text/plain": [
       "<Figure size 1440x432 with 2 Axes>"
      ]
     },
     "metadata": {
      "needs_background": "light"
     },
     "output_type": "display_data"
    }
   ],
   "source": [
    "num_attributes = df1.select_dtypes(include=np.number).columns.to_list()\n",
    "\n",
    "#Lets remove the release_year column as we don't need it. It is a temporal variable\n",
    "num_attributes.remove(\"release_year\") \n",
    "\n",
    "plt.figure(figsize=(20,6))\n",
    "sns.heatmap(df1[num_attributes].corr(), annot=True, vmin=-1, vmax=1, cmap=\"BuPu\", linewidths=0.05).set_title('Attributes correlation');"
   ]
  },
  {
   "cell_type": "markdown",
   "metadata": {},
   "source": [
    "Attributes that were positively correlated with the normalized price have increased their values after outliers have been treated. "
   ]
  },
  {
   "cell_type": "markdown",
   "metadata": {
    "id": "HeUzI1OB4rqM"
   },
   "source": [
    "## Model Building - Linear Regression"
   ]
  },
  {
   "cell_type": "code",
   "execution_count": 168,
   "metadata": {
    "id": "ZNRiMg0wMKth"
   },
   "outputs": [],
   "source": [
    "# We begin by defining our X and y variables\n",
    "X = df1.drop([\"normalized_used_price\", \"release_year\"], axis=1) \n",
    "y = df1[\"normalized_used_price\"]"
   ]
  },
  {
   "cell_type": "code",
   "execution_count": 169,
   "metadata": {},
   "outputs": [
    {
     "data": {
      "text/html": [
       "<div>\n",
       "<style scoped>\n",
       "    .dataframe tbody tr th:only-of-type {\n",
       "        vertical-align: middle;\n",
       "    }\n",
       "\n",
       "    .dataframe tbody tr th {\n",
       "        vertical-align: top;\n",
       "    }\n",
       "\n",
       "    .dataframe thead th {\n",
       "        text-align: right;\n",
       "    }\n",
       "</style>\n",
       "<table border=\"1\" class=\"dataframe\">\n",
       "  <thead>\n",
       "    <tr style=\"text-align: right;\">\n",
       "      <th></th>\n",
       "      <th>brand_name</th>\n",
       "      <th>os</th>\n",
       "      <th>screen_size</th>\n",
       "      <th>4g</th>\n",
       "      <th>5g</th>\n",
       "      <th>main_camera_mp</th>\n",
       "      <th>selfie_camera_mp</th>\n",
       "      <th>int_memory</th>\n",
       "      <th>battery</th>\n",
       "      <th>weight</th>\n",
       "      <th>days_used</th>\n",
       "      <th>normalized_new_price</th>\n",
       "    </tr>\n",
       "  </thead>\n",
       "  <tbody>\n",
       "    <tr>\n",
       "      <th>0</th>\n",
       "      <td>Honor</td>\n",
       "      <td>Android</td>\n",
       "      <td>14.50</td>\n",
       "      <td>yes</td>\n",
       "      <td>no</td>\n",
       "      <td>13.0</td>\n",
       "      <td>5.0</td>\n",
       "      <td>64.0</td>\n",
       "      <td>3020.0</td>\n",
       "      <td>146.0</td>\n",
       "      <td>127</td>\n",
       "      <td>4.715100</td>\n",
       "    </tr>\n",
       "    <tr>\n",
       "      <th>1</th>\n",
       "      <td>Honor</td>\n",
       "      <td>Android</td>\n",
       "      <td>17.30</td>\n",
       "      <td>yes</td>\n",
       "      <td>yes</td>\n",
       "      <td>13.0</td>\n",
       "      <td>16.0</td>\n",
       "      <td>128.0</td>\n",
       "      <td>4300.0</td>\n",
       "      <td>213.0</td>\n",
       "      <td>325</td>\n",
       "      <td>5.519018</td>\n",
       "    </tr>\n",
       "    <tr>\n",
       "      <th>2</th>\n",
       "      <td>Honor</td>\n",
       "      <td>Android</td>\n",
       "      <td>16.69</td>\n",
       "      <td>yes</td>\n",
       "      <td>yes</td>\n",
       "      <td>13.0</td>\n",
       "      <td>8.0</td>\n",
       "      <td>128.0</td>\n",
       "      <td>4200.0</td>\n",
       "      <td>213.0</td>\n",
       "      <td>162</td>\n",
       "      <td>5.884631</td>\n",
       "    </tr>\n",
       "    <tr>\n",
       "      <th>3</th>\n",
       "      <td>Honor</td>\n",
       "      <td>Android</td>\n",
       "      <td>19.30</td>\n",
       "      <td>yes</td>\n",
       "      <td>yes</td>\n",
       "      <td>13.0</td>\n",
       "      <td>8.0</td>\n",
       "      <td>64.0</td>\n",
       "      <td>6850.0</td>\n",
       "      <td>249.5</td>\n",
       "      <td>345</td>\n",
       "      <td>5.630961</td>\n",
       "    </tr>\n",
       "    <tr>\n",
       "      <th>4</th>\n",
       "      <td>Honor</td>\n",
       "      <td>Android</td>\n",
       "      <td>15.32</td>\n",
       "      <td>yes</td>\n",
       "      <td>no</td>\n",
       "      <td>13.0</td>\n",
       "      <td>8.0</td>\n",
       "      <td>64.0</td>\n",
       "      <td>5000.0</td>\n",
       "      <td>185.0</td>\n",
       "      <td>293</td>\n",
       "      <td>4.947837</td>\n",
       "    </tr>\n",
       "  </tbody>\n",
       "</table>\n",
       "</div>"
      ],
      "text/plain": [
       "  brand_name       os  screen_size   4g   5g  main_camera_mp  \\\n",
       "0      Honor  Android        14.50  yes   no            13.0   \n",
       "1      Honor  Android        17.30  yes  yes            13.0   \n",
       "2      Honor  Android        16.69  yes  yes            13.0   \n",
       "3      Honor  Android        19.30  yes  yes            13.0   \n",
       "4      Honor  Android        15.32  yes   no            13.0   \n",
       "\n",
       "   selfie_camera_mp  int_memory  battery  weight  days_used  \\\n",
       "0               5.0        64.0   3020.0   146.0        127   \n",
       "1              16.0       128.0   4300.0   213.0        325   \n",
       "2               8.0       128.0   4200.0   213.0        162   \n",
       "3               8.0        64.0   6850.0   249.5        345   \n",
       "4               8.0        64.0   5000.0   185.0        293   \n",
       "\n",
       "   normalized_new_price  \n",
       "0              4.715100  \n",
       "1              5.519018  \n",
       "2              5.884631  \n",
       "3              5.630961  \n",
       "4              4.947837  "
      ]
     },
     "execution_count": 169,
     "metadata": {},
     "output_type": "execute_result"
    }
   ],
   "source": [
    "X.head()"
   ]
  },
  {
   "cell_type": "code",
   "execution_count": 170,
   "metadata": {},
   "outputs": [
    {
     "data": {
      "text/plain": [
       "0    4.307572\n",
       "1    5.162097\n",
       "2    5.111084\n",
       "3    5.135387\n",
       "4    4.389995\n",
       "Name: normalized_used_price, dtype: float64"
      ]
     },
     "execution_count": 170,
     "metadata": {},
     "output_type": "execute_result"
    }
   ],
   "source": [
    "y.head()"
   ]
  },
  {
   "cell_type": "code",
   "execution_count": 171,
   "metadata": {},
   "outputs": [
    {
     "name": "stdout",
     "output_type": "stream",
     "text": [
      "(3454, 46)\n"
     ]
    },
    {
     "data": {
      "text/html": [
       "<div>\n",
       "<style scoped>\n",
       "    .dataframe tbody tr th:only-of-type {\n",
       "        vertical-align: middle;\n",
       "    }\n",
       "\n",
       "    .dataframe tbody tr th {\n",
       "        vertical-align: top;\n",
       "    }\n",
       "\n",
       "    .dataframe thead th {\n",
       "        text-align: right;\n",
       "    }\n",
       "</style>\n",
       "<table border=\"1\" class=\"dataframe\">\n",
       "  <thead>\n",
       "    <tr style=\"text-align: right;\">\n",
       "      <th></th>\n",
       "      <th>screen_size</th>\n",
       "      <th>main_camera_mp</th>\n",
       "      <th>selfie_camera_mp</th>\n",
       "      <th>int_memory</th>\n",
       "      <th>battery</th>\n",
       "      <th>weight</th>\n",
       "      <th>days_used</th>\n",
       "      <th>normalized_new_price</th>\n",
       "      <th>brand_name_Alcatel</th>\n",
       "      <th>brand_name_Apple</th>\n",
       "      <th>...</th>\n",
       "      <th>brand_name_Spice</th>\n",
       "      <th>brand_name_Vivo</th>\n",
       "      <th>brand_name_XOLO</th>\n",
       "      <th>brand_name_Xiaomi</th>\n",
       "      <th>brand_name_ZTE</th>\n",
       "      <th>os_Others</th>\n",
       "      <th>os_Windows</th>\n",
       "      <th>os_iOS</th>\n",
       "      <th>4g_yes</th>\n",
       "      <th>5g_yes</th>\n",
       "    </tr>\n",
       "  </thead>\n",
       "  <tbody>\n",
       "    <tr>\n",
       "      <th>0</th>\n",
       "      <td>14.50</td>\n",
       "      <td>13.0</td>\n",
       "      <td>5.0</td>\n",
       "      <td>64.0</td>\n",
       "      <td>3020.0</td>\n",
       "      <td>146.0</td>\n",
       "      <td>127</td>\n",
       "      <td>4.715100</td>\n",
       "      <td>0</td>\n",
       "      <td>0</td>\n",
       "      <td>...</td>\n",
       "      <td>0</td>\n",
       "      <td>0</td>\n",
       "      <td>0</td>\n",
       "      <td>0</td>\n",
       "      <td>0</td>\n",
       "      <td>0</td>\n",
       "      <td>0</td>\n",
       "      <td>0</td>\n",
       "      <td>1</td>\n",
       "      <td>0</td>\n",
       "    </tr>\n",
       "    <tr>\n",
       "      <th>1</th>\n",
       "      <td>17.30</td>\n",
       "      <td>13.0</td>\n",
       "      <td>16.0</td>\n",
       "      <td>128.0</td>\n",
       "      <td>4300.0</td>\n",
       "      <td>213.0</td>\n",
       "      <td>325</td>\n",
       "      <td>5.519018</td>\n",
       "      <td>0</td>\n",
       "      <td>0</td>\n",
       "      <td>...</td>\n",
       "      <td>0</td>\n",
       "      <td>0</td>\n",
       "      <td>0</td>\n",
       "      <td>0</td>\n",
       "      <td>0</td>\n",
       "      <td>0</td>\n",
       "      <td>0</td>\n",
       "      <td>0</td>\n",
       "      <td>1</td>\n",
       "      <td>1</td>\n",
       "    </tr>\n",
       "    <tr>\n",
       "      <th>2</th>\n",
       "      <td>16.69</td>\n",
       "      <td>13.0</td>\n",
       "      <td>8.0</td>\n",
       "      <td>128.0</td>\n",
       "      <td>4200.0</td>\n",
       "      <td>213.0</td>\n",
       "      <td>162</td>\n",
       "      <td>5.884631</td>\n",
       "      <td>0</td>\n",
       "      <td>0</td>\n",
       "      <td>...</td>\n",
       "      <td>0</td>\n",
       "      <td>0</td>\n",
       "      <td>0</td>\n",
       "      <td>0</td>\n",
       "      <td>0</td>\n",
       "      <td>0</td>\n",
       "      <td>0</td>\n",
       "      <td>0</td>\n",
       "      <td>1</td>\n",
       "      <td>1</td>\n",
       "    </tr>\n",
       "    <tr>\n",
       "      <th>3</th>\n",
       "      <td>19.30</td>\n",
       "      <td>13.0</td>\n",
       "      <td>8.0</td>\n",
       "      <td>64.0</td>\n",
       "      <td>6850.0</td>\n",
       "      <td>249.5</td>\n",
       "      <td>345</td>\n",
       "      <td>5.630961</td>\n",
       "      <td>0</td>\n",
       "      <td>0</td>\n",
       "      <td>...</td>\n",
       "      <td>0</td>\n",
       "      <td>0</td>\n",
       "      <td>0</td>\n",
       "      <td>0</td>\n",
       "      <td>0</td>\n",
       "      <td>0</td>\n",
       "      <td>0</td>\n",
       "      <td>0</td>\n",
       "      <td>1</td>\n",
       "      <td>1</td>\n",
       "    </tr>\n",
       "    <tr>\n",
       "      <th>4</th>\n",
       "      <td>15.32</td>\n",
       "      <td>13.0</td>\n",
       "      <td>8.0</td>\n",
       "      <td>64.0</td>\n",
       "      <td>5000.0</td>\n",
       "      <td>185.0</td>\n",
       "      <td>293</td>\n",
       "      <td>4.947837</td>\n",
       "      <td>0</td>\n",
       "      <td>0</td>\n",
       "      <td>...</td>\n",
       "      <td>0</td>\n",
       "      <td>0</td>\n",
       "      <td>0</td>\n",
       "      <td>0</td>\n",
       "      <td>0</td>\n",
       "      <td>0</td>\n",
       "      <td>0</td>\n",
       "      <td>0</td>\n",
       "      <td>1</td>\n",
       "      <td>0</td>\n",
       "    </tr>\n",
       "  </tbody>\n",
       "</table>\n",
       "<p>5 rows × 46 columns</p>\n",
       "</div>"
      ],
      "text/plain": [
       "   screen_size  main_camera_mp  selfie_camera_mp  int_memory  battery  weight  \\\n",
       "0        14.50            13.0               5.0        64.0   3020.0   146.0   \n",
       "1        17.30            13.0              16.0       128.0   4300.0   213.0   \n",
       "2        16.69            13.0               8.0       128.0   4200.0   213.0   \n",
       "3        19.30            13.0               8.0        64.0   6850.0   249.5   \n",
       "4        15.32            13.0               8.0        64.0   5000.0   185.0   \n",
       "\n",
       "   days_used  normalized_new_price  brand_name_Alcatel  brand_name_Apple  ...  \\\n",
       "0        127              4.715100                   0                 0  ...   \n",
       "1        325              5.519018                   0                 0  ...   \n",
       "2        162              5.884631                   0                 0  ...   \n",
       "3        345              5.630961                   0                 0  ...   \n",
       "4        293              4.947837                   0                 0  ...   \n",
       "\n",
       "   brand_name_Spice  brand_name_Vivo  brand_name_XOLO  brand_name_Xiaomi  \\\n",
       "0                 0                0                0                  0   \n",
       "1                 0                0                0                  0   \n",
       "2                 0                0                0                  0   \n",
       "3                 0                0                0                  0   \n",
       "4                 0                0                0                  0   \n",
       "\n",
       "   brand_name_ZTE  os_Others  os_Windows  os_iOS  4g_yes  5g_yes  \n",
       "0               0          0           0       0       1       0  \n",
       "1               0          0           0       0       1       1  \n",
       "2               0          0           0       0       1       1  \n",
       "3               0          0           0       0       1       1  \n",
       "4               0          0           0       0       1       0  \n",
       "\n",
       "[5 rows x 46 columns]"
      ]
     },
     "execution_count": 171,
     "metadata": {},
     "output_type": "execute_result"
    }
   ],
   "source": [
    "#Before we proceed to build a model, we'll have to encode categorical features.\n",
    "\n",
    "X = pd.get_dummies(X, columns=X.select_dtypes(include=[\"object\",\"category\"]).columns.to_list(), \\\n",
    "    drop_first=True)\n",
    "\n",
    "print(X.shape)\n",
    "X.head()"
   ]
  },
  {
   "cell_type": "markdown",
   "metadata": {},
   "source": [
    "We'll split the data into train and test to be able to evaluate the model that we build on the train data."
   ]
  },
  {
   "cell_type": "code",
   "execution_count": 172,
   "metadata": {},
   "outputs": [
    {
     "name": "stdout",
     "output_type": "stream",
     "text": [
      "Total number of rows present in train data = 2417\n",
      "Total number of rows present in test data = 1037\n"
     ]
    }
   ],
   "source": [
    "# Using scikit-learn `train_test_split` lets split the data into 70:30 ratio. \n",
    "\n",
    "x_train, x_test, y_train, y_test = train_test_split(X,y,test_size=0.3, random_state=42)\n",
    "print(\"Total number of rows present in train data =\", x_train.shape[0])\n",
    "print(\"Total number of rows present in test data =\", x_test.shape[0])"
   ]
  },
  {
   "cell_type": "code",
   "execution_count": 173,
   "metadata": {},
   "outputs": [
    {
     "data": {
      "text/plain": [
       "LinearRegression()"
      ]
     },
     "execution_count": 173,
     "metadata": {},
     "output_type": "execute_result"
    }
   ],
   "source": [
    "# Lets now fit the model on the train data. We save the model inside the variable `lr`.\n",
    "\n",
    "lr = LinearRegression()\n",
    "lr.fit(x_train, y_train)"
   ]
  },
  {
   "cell_type": "code",
   "execution_count": 174,
   "metadata": {
    "scrolled": true,
    "tags": []
   },
   "outputs": [
    {
     "data": {
      "text/html": [
       "<div>\n",
       "<style scoped>\n",
       "    .dataframe tbody tr th:only-of-type {\n",
       "        vertical-align: middle;\n",
       "    }\n",
       "\n",
       "    .dataframe tbody tr th {\n",
       "        vertical-align: top;\n",
       "    }\n",
       "\n",
       "    .dataframe thead th {\n",
       "        text-align: right;\n",
       "    }\n",
       "</style>\n",
       "<table border=\"1\" class=\"dataframe\">\n",
       "  <thead>\n",
       "    <tr style=\"text-align: right;\">\n",
       "      <th></th>\n",
       "      <th>Coefficients</th>\n",
       "    </tr>\n",
       "  </thead>\n",
       "  <tbody>\n",
       "    <tr>\n",
       "      <th>screen_size</th>\n",
       "      <td>0.045172</td>\n",
       "    </tr>\n",
       "    <tr>\n",
       "      <th>main_camera_mp</th>\n",
       "      <td>0.022691</td>\n",
       "    </tr>\n",
       "    <tr>\n",
       "      <th>selfie_camera_mp</th>\n",
       "      <td>0.017037</td>\n",
       "    </tr>\n",
       "    <tr>\n",
       "      <th>int_memory</th>\n",
       "      <td>0.000629</td>\n",
       "    </tr>\n",
       "    <tr>\n",
       "      <th>battery</th>\n",
       "      <td>0.000011</td>\n",
       "    </tr>\n",
       "    <tr>\n",
       "      <th>weight</th>\n",
       "      <td>0.001124</td>\n",
       "    </tr>\n",
       "    <tr>\n",
       "      <th>days_used</th>\n",
       "      <td>0.000010</td>\n",
       "    </tr>\n",
       "    <tr>\n",
       "      <th>normalized_new_price</th>\n",
       "      <td>0.379907</td>\n",
       "    </tr>\n",
       "    <tr>\n",
       "      <th>brand_name_Alcatel</th>\n",
       "      <td>-0.072724</td>\n",
       "    </tr>\n",
       "    <tr>\n",
       "      <th>brand_name_Apple</th>\n",
       "      <td>0.280745</td>\n",
       "    </tr>\n",
       "    <tr>\n",
       "      <th>brand_name_Asus</th>\n",
       "      <td>0.007368</td>\n",
       "    </tr>\n",
       "    <tr>\n",
       "      <th>brand_name_BlackBerry</th>\n",
       "      <td>0.009722</td>\n",
       "    </tr>\n",
       "    <tr>\n",
       "      <th>brand_name_Celkon</th>\n",
       "      <td>-0.175290</td>\n",
       "    </tr>\n",
       "    <tr>\n",
       "      <th>brand_name_Coolpad</th>\n",
       "      <td>-0.027947</td>\n",
       "    </tr>\n",
       "    <tr>\n",
       "      <th>brand_name_Gionee</th>\n",
       "      <td>-0.021578</td>\n",
       "    </tr>\n",
       "    <tr>\n",
       "      <th>brand_name_Google</th>\n",
       "      <td>-0.052613</td>\n",
       "    </tr>\n",
       "    <tr>\n",
       "      <th>brand_name_HTC</th>\n",
       "      <td>-0.028891</td>\n",
       "    </tr>\n",
       "    <tr>\n",
       "      <th>brand_name_Honor</th>\n",
       "      <td>-0.046762</td>\n",
       "    </tr>\n",
       "    <tr>\n",
       "      <th>brand_name_Huawei</th>\n",
       "      <td>-0.046408</td>\n",
       "    </tr>\n",
       "    <tr>\n",
       "      <th>brand_name_Infinix</th>\n",
       "      <td>0.225688</td>\n",
       "    </tr>\n",
       "    <tr>\n",
       "      <th>brand_name_Karbonn</th>\n",
       "      <td>-0.070501</td>\n",
       "    </tr>\n",
       "    <tr>\n",
       "      <th>brand_name_LG</th>\n",
       "      <td>-0.046737</td>\n",
       "    </tr>\n",
       "    <tr>\n",
       "      <th>brand_name_Lava</th>\n",
       "      <td>-0.018382</td>\n",
       "    </tr>\n",
       "    <tr>\n",
       "      <th>brand_name_Lenovo</th>\n",
       "      <td>-0.034256</td>\n",
       "    </tr>\n",
       "    <tr>\n",
       "      <th>brand_name_Meizu</th>\n",
       "      <td>-0.081262</td>\n",
       "    </tr>\n",
       "    <tr>\n",
       "      <th>brand_name_Micromax</th>\n",
       "      <td>-0.041457</td>\n",
       "    </tr>\n",
       "    <tr>\n",
       "      <th>brand_name_Microsoft</th>\n",
       "      <td>0.079214</td>\n",
       "    </tr>\n",
       "    <tr>\n",
       "      <th>brand_name_Motorola</th>\n",
       "      <td>-0.062110</td>\n",
       "    </tr>\n",
       "    <tr>\n",
       "      <th>brand_name_Nokia</th>\n",
       "      <td>0.019212</td>\n",
       "    </tr>\n",
       "    <tr>\n",
       "      <th>brand_name_OnePlus</th>\n",
       "      <td>-0.067502</td>\n",
       "    </tr>\n",
       "    <tr>\n",
       "      <th>brand_name_Oppo</th>\n",
       "      <td>-0.016038</td>\n",
       "    </tr>\n",
       "    <tr>\n",
       "      <th>brand_name_Others</th>\n",
       "      <td>-0.053672</td>\n",
       "    </tr>\n",
       "    <tr>\n",
       "      <th>brand_name_Panasonic</th>\n",
       "      <td>-0.021474</td>\n",
       "    </tr>\n",
       "    <tr>\n",
       "      <th>brand_name_Realme</th>\n",
       "      <td>-0.086445</td>\n",
       "    </tr>\n",
       "    <tr>\n",
       "      <th>brand_name_Samsung</th>\n",
       "      <td>-0.026761</td>\n",
       "    </tr>\n",
       "    <tr>\n",
       "      <th>brand_name_Sony</th>\n",
       "      <td>-0.049745</td>\n",
       "    </tr>\n",
       "    <tr>\n",
       "      <th>brand_name_Spice</th>\n",
       "      <td>-0.034783</td>\n",
       "    </tr>\n",
       "    <tr>\n",
       "      <th>brand_name_Vivo</th>\n",
       "      <td>-0.085952</td>\n",
       "    </tr>\n",
       "    <tr>\n",
       "      <th>brand_name_XOLO</th>\n",
       "      <td>-0.069540</td>\n",
       "    </tr>\n",
       "    <tr>\n",
       "      <th>brand_name_Xiaomi</th>\n",
       "      <td>0.006571</td>\n",
       "    </tr>\n",
       "    <tr>\n",
       "      <th>brand_name_ZTE</th>\n",
       "      <td>-0.040423</td>\n",
       "    </tr>\n",
       "    <tr>\n",
       "      <th>os_Others</th>\n",
       "      <td>-0.022358</td>\n",
       "    </tr>\n",
       "    <tr>\n",
       "      <th>os_Windows</th>\n",
       "      <td>-0.005696</td>\n",
       "    </tr>\n",
       "    <tr>\n",
       "      <th>os_iOS</th>\n",
       "      <td>-0.241372</td>\n",
       "    </tr>\n",
       "    <tr>\n",
       "      <th>4g_yes</th>\n",
       "      <td>0.034110</td>\n",
       "    </tr>\n",
       "    <tr>\n",
       "      <th>5g_yes</th>\n",
       "      <td>0.018606</td>\n",
       "    </tr>\n",
       "    <tr>\n",
       "      <th>Intercept</th>\n",
       "      <td>1.209787</td>\n",
       "    </tr>\n",
       "  </tbody>\n",
       "</table>\n",
       "</div>"
      ],
      "text/plain": [
       "                       Coefficients\n",
       "screen_size                0.045172\n",
       "main_camera_mp             0.022691\n",
       "selfie_camera_mp           0.017037\n",
       "int_memory                 0.000629\n",
       "battery                    0.000011\n",
       "weight                     0.001124\n",
       "days_used                  0.000010\n",
       "normalized_new_price       0.379907\n",
       "brand_name_Alcatel        -0.072724\n",
       "brand_name_Apple           0.280745\n",
       "brand_name_Asus            0.007368\n",
       "brand_name_BlackBerry      0.009722\n",
       "brand_name_Celkon         -0.175290\n",
       "brand_name_Coolpad        -0.027947\n",
       "brand_name_Gionee         -0.021578\n",
       "brand_name_Google         -0.052613\n",
       "brand_name_HTC            -0.028891\n",
       "brand_name_Honor          -0.046762\n",
       "brand_name_Huawei         -0.046408\n",
       "brand_name_Infinix         0.225688\n",
       "brand_name_Karbonn        -0.070501\n",
       "brand_name_LG             -0.046737\n",
       "brand_name_Lava           -0.018382\n",
       "brand_name_Lenovo         -0.034256\n",
       "brand_name_Meizu          -0.081262\n",
       "brand_name_Micromax       -0.041457\n",
       "brand_name_Microsoft       0.079214\n",
       "brand_name_Motorola       -0.062110\n",
       "brand_name_Nokia           0.019212\n",
       "brand_name_OnePlus        -0.067502\n",
       "brand_name_Oppo           -0.016038\n",
       "brand_name_Others         -0.053672\n",
       "brand_name_Panasonic      -0.021474\n",
       "brand_name_Realme         -0.086445\n",
       "brand_name_Samsung        -0.026761\n",
       "brand_name_Sony           -0.049745\n",
       "brand_name_Spice          -0.034783\n",
       "brand_name_Vivo           -0.085952\n",
       "brand_name_XOLO           -0.069540\n",
       "brand_name_Xiaomi          0.006571\n",
       "brand_name_ZTE            -0.040423\n",
       "os_Others                 -0.022358\n",
       "os_Windows                -0.005696\n",
       "os_iOS                    -0.241372\n",
       "4g_yes                     0.034110\n",
       "5g_yes                     0.018606\n",
       "Intercept                  1.209787"
      ]
     },
     "execution_count": 174,
     "metadata": {},
     "output_type": "execute_result"
    }
   ],
   "source": [
    "#Let's check the coefficients and intercept of the model\n",
    "coefficient_df = pd.DataFrame(np.append(lr.coef_, lr.intercept_), \\\n",
    "                       index = x_train.columns.to_list() + [\"Intercept\"], columns = [\"Coefficients\"])\n",
    "coefficient_df"
   ]
  },
  {
   "cell_type": "markdown",
   "metadata": {
    "id": "jvoU3F6oMKti"
   },
   "source": [
    "## Model Performance Check"
   ]
  },
  {
   "cell_type": "markdown",
   "metadata": {
    "id": "k3e6gzxdMKti"
   },
   "source": [
    "- For evaluation, we will use the metrics available on sklern: mean_squared_error, mean_absolute_error, r2_score.\n",
    "- But first, we need to create a function to compute different metrics to check regression model performance"
   ]
  },
  {
   "cell_type": "code",
   "execution_count": 175,
   "metadata": {},
   "outputs": [],
   "source": [
    "# function to compute adjusted R-squared\n",
    "def adj_r2_score(predictors, targets, predictions):\n",
    "    r2 = r2_score(targets, predictions)\n",
    "    n = predictors.shape[0]\n",
    "    k = predictors.shape[1]\n",
    "    return 1 - ((1 - r2) * (n - 1) / (n - k - 1))\n",
    "\n",
    "# function to compute MAPE\n",
    "def mape_score(targets, predictions):\n",
    "    return np.mean(np.abs(targets - predictions) / targets) * 100\n",
    "\n",
    "# function to compute different metrics to check performance of a regression model\n",
    "def model_performance_regression(model, predictors, target):\n",
    "  \n",
    "    # predicting using the independent variables\n",
    "    pred = model.predict(predictors)\n",
    "\n",
    "    r2 = r2_score(target, pred)  # computes the R-squared score\n",
    "    adjr2 = adj_r2_score(predictors, target, pred)  # computes the adjusted R-squared\n",
    "    rmse = np.sqrt(mean_squared_error(target, pred))  # computes Root Mean Squared Error\n",
    "    mae = mean_absolute_error(target, pred)  # computes the Mean Absolute Error\n",
    "    mape = mape_score(target, pred)  # computes the Mean Absolute Percentage Error\n",
    "\n",
    "    # creating a dataframe of metrics\n",
    "    df_perf = pd.DataFrame(\n",
    "        {\n",
    "            \"RMSE\": rmse,\n",
    "            \"MAE\": mae,\n",
    "            \"R-squared\": r2,\n",
    "            \"Adj. R-squared\": adjr2,\n",
    "            \"MAPE\": mape,\n",
    "        },\n",
    "        index=[0],\n",
    "    )\n",
    "\n",
    "    return df_perf"
   ]
  },
  {
   "cell_type": "code",
   "execution_count": 176,
   "metadata": {},
   "outputs": [
    {
     "name": "stdout",
     "output_type": "stream",
     "text": [
      "Training Performance\n",
      "\n"
     ]
    },
    {
     "data": {
      "text/html": [
       "<div>\n",
       "<style scoped>\n",
       "    .dataframe tbody tr th:only-of-type {\n",
       "        vertical-align: middle;\n",
       "    }\n",
       "\n",
       "    .dataframe tbody tr th {\n",
       "        vertical-align: top;\n",
       "    }\n",
       "\n",
       "    .dataframe thead th {\n",
       "        text-align: right;\n",
       "    }\n",
       "</style>\n",
       "<table border=\"1\" class=\"dataframe\">\n",
       "  <thead>\n",
       "    <tr style=\"text-align: right;\">\n",
       "      <th></th>\n",
       "      <th>RMSE</th>\n",
       "      <th>MAE</th>\n",
       "      <th>R-squared</th>\n",
       "      <th>Adj. R-squared</th>\n",
       "      <th>MAPE</th>\n",
       "    </tr>\n",
       "  </thead>\n",
       "  <tbody>\n",
       "    <tr>\n",
       "      <th>0</th>\n",
       "      <td>0.222867</td>\n",
       "      <td>0.176081</td>\n",
       "      <td>0.844282</td>\n",
       "      <td>0.84126</td>\n",
       "      <td>4.135178</td>\n",
       "    </tr>\n",
       "  </tbody>\n",
       "</table>\n",
       "</div>"
      ],
      "text/plain": [
       "       RMSE       MAE  R-squared  Adj. R-squared      MAPE\n",
       "0  0.222867  0.176081   0.844282         0.84126  4.135178"
      ]
     },
     "execution_count": 176,
     "metadata": {},
     "output_type": "execute_result"
    }
   ],
   "source": [
    "# Let's check the model performance on train set\n",
    "print(\"Training Performance\\n\")\n",
    "lr_train_perf = model_performance_regression(lr, x_train, y_train)\n",
    "lr_train_perf"
   ]
  },
  {
   "cell_type": "code",
   "execution_count": 177,
   "metadata": {},
   "outputs": [
    {
     "name": "stdout",
     "output_type": "stream",
     "text": [
      "Test Performance\n",
      "\n"
     ]
    },
    {
     "data": {
      "text/html": [
       "<div>\n",
       "<style scoped>\n",
       "    .dataframe tbody tr th:only-of-type {\n",
       "        vertical-align: middle;\n",
       "    }\n",
       "\n",
       "    .dataframe tbody tr th {\n",
       "        vertical-align: top;\n",
       "    }\n",
       "\n",
       "    .dataframe thead th {\n",
       "        text-align: right;\n",
       "    }\n",
       "</style>\n",
       "<table border=\"1\" class=\"dataframe\">\n",
       "  <thead>\n",
       "    <tr style=\"text-align: right;\">\n",
       "      <th></th>\n",
       "      <th>RMSE</th>\n",
       "      <th>MAE</th>\n",
       "      <th>R-squared</th>\n",
       "      <th>Adj. R-squared</th>\n",
       "      <th>MAPE</th>\n",
       "    </tr>\n",
       "  </thead>\n",
       "  <tbody>\n",
       "    <tr>\n",
       "      <th>0</th>\n",
       "      <td>0.225685</td>\n",
       "      <td>0.180888</td>\n",
       "      <td>0.836612</td>\n",
       "      <td>0.82902</td>\n",
       "      <td>4.219544</td>\n",
       "    </tr>\n",
       "  </tbody>\n",
       "</table>\n",
       "</div>"
      ],
      "text/plain": [
       "       RMSE       MAE  R-squared  Adj. R-squared      MAPE\n",
       "0  0.225685  0.180888   0.836612         0.82902  4.219544"
      ]
     },
     "execution_count": 177,
     "metadata": {},
     "output_type": "execute_result"
    }
   ],
   "source": [
    "# Let's check the model performance on test set\n",
    "print(\"Test Performance\\n\")\n",
    "lr_test_perf = model_performance_regression(\n",
    "    lr, x_test, y_test\n",
    ")\n",
    "lr_test_perf"
   ]
  },
  {
   "cell_type": "markdown",
   "metadata": {},
   "source": [
    "- The MAPE on the test set suggests we can predict within 4.2% of the normalized_used_price.\n",
    "- The model is able to explain approximately 84% of the variation in the data, which is very good."
   ]
  },
  {
   "cell_type": "markdown",
   "metadata": {},
   "source": [
    "### Linear Regression using statsmodels"
   ]
  },
  {
   "cell_type": "code",
   "execution_count": 178,
   "metadata": {},
   "outputs": [
    {
     "name": "stdout",
     "output_type": "stream",
     "text": [
      "                              OLS Regression Results                             \n",
      "=================================================================================\n",
      "Dep. Variable:     normalized_used_price   R-squared:                       0.844\n",
      "Model:                               OLS   Adj. R-squared:                  0.841\n",
      "Method:                    Least Squares   F-statistic:                     279.3\n",
      "Date:                   Wed, 29 Jun 2022   Prob (F-statistic):               0.00\n",
      "Time:                           13:30:45   Log-Likelihood:                 198.78\n",
      "No. Observations:                   2417   AIC:                            -303.6\n",
      "Df Residuals:                       2370   BIC:                            -31.41\n",
      "Df Model:                             46                                         \n",
      "Covariance Type:               nonrobust                                         \n",
      "=========================================================================================\n",
      "                            coef    std err          t      P>|t|      [0.025      0.975]\n",
      "-----------------------------------------------------------------------------------------\n",
      "const                     1.2098      0.071     17.151      0.000       1.071       1.348\n",
      "screen_size               0.0452      0.004     11.829      0.000       0.038       0.053\n",
      "main_camera_mp            0.0227      0.002     14.330      0.000       0.020       0.026\n",
      "selfie_camera_mp          0.0170      0.002     10.806      0.000       0.014       0.020\n",
      "int_memory                0.0006      0.000      3.500      0.000       0.000       0.001\n",
      "battery                 1.08e-05   7.31e-06      1.477      0.140   -3.54e-06    2.51e-05\n",
      "weight                    0.0011      0.000      4.387      0.000       0.001       0.002\n",
      "days_used              9.539e-06   2.55e-05      0.374      0.709   -4.05e-05    5.96e-05\n",
      "normalized_new_price      0.3799      0.012     32.517      0.000       0.357       0.403\n",
      "brand_name_Alcatel       -0.0727      0.048     -1.510      0.131      -0.167       0.022\n",
      "brand_name_Apple          0.2807      0.142      1.984      0.047       0.003       0.558\n",
      "brand_name_Asus           0.0074      0.048      0.154      0.877      -0.086       0.101\n",
      "brand_name_BlackBerry     0.0097      0.070      0.139      0.889      -0.127       0.147\n",
      "brand_name_Celkon        -0.1753      0.066     -2.657      0.008      -0.305      -0.046\n",
      "brand_name_Coolpad       -0.0279      0.069     -0.406      0.685      -0.163       0.107\n",
      "brand_name_Gionee        -0.0216      0.057     -0.379      0.704      -0.133       0.090\n",
      "brand_name_Google        -0.0526      0.080     -0.658      0.511      -0.209       0.104\n",
      "brand_name_HTC           -0.0289      0.049     -0.595      0.552      -0.124       0.066\n",
      "brand_name_Honor         -0.0468      0.049     -0.949      0.343      -0.143       0.050\n",
      "brand_name_Huawei        -0.0464      0.045     -1.038      0.300      -0.134       0.041\n",
      "brand_name_Infinix        0.2257      0.111      2.036      0.042       0.008       0.443\n",
      "brand_name_Karbonn       -0.0705      0.066     -1.064      0.287      -0.200       0.059\n",
      "brand_name_LG            -0.0467      0.045     -1.029      0.304      -0.136       0.042\n",
      "brand_name_Lava          -0.0184      0.061     -0.301      0.764      -0.138       0.102\n",
      "brand_name_Lenovo        -0.0343      0.046     -0.749      0.454      -0.124       0.055\n",
      "brand_name_Meizu         -0.0813      0.055     -1.489      0.137      -0.188       0.026\n",
      "brand_name_Micromax      -0.0415      0.047     -0.873      0.383      -0.135       0.052\n",
      "brand_name_Microsoft      0.0792      0.079      1.002      0.317      -0.076       0.234\n",
      "brand_name_Motorola      -0.0621      0.049     -1.259      0.208      -0.159       0.035\n",
      "brand_name_Nokia          0.0192      0.050      0.382      0.703      -0.080       0.118\n",
      "brand_name_OnePlus       -0.0675      0.071     -0.947      0.344      -0.207       0.072\n",
      "brand_name_Oppo          -0.0160      0.048     -0.337      0.736      -0.109       0.077\n",
      "brand_name_Others        -0.0537      0.042     -1.268      0.205      -0.137       0.029\n",
      "brand_name_Panasonic     -0.0215      0.060     -0.358      0.720      -0.139       0.096\n",
      "brand_name_Realme        -0.0864      0.061     -1.412      0.158      -0.207       0.034\n",
      "brand_name_Samsung       -0.0268      0.044     -0.614      0.539      -0.112       0.059\n",
      "brand_name_Sony          -0.0497      0.051     -0.967      0.333      -0.151       0.051\n",
      "brand_name_Spice         -0.0348      0.066     -0.524      0.600      -0.165       0.095\n",
      "brand_name_Vivo          -0.0860      0.049     -1.751      0.080      -0.182       0.010\n",
      "brand_name_XOLO          -0.0695      0.056     -1.248      0.212      -0.179       0.040\n",
      "brand_name_Xiaomi         0.0066      0.048      0.136      0.891      -0.088       0.101\n",
      "brand_name_ZTE           -0.0404      0.047     -0.863      0.388      -0.132       0.051\n",
      "os_Others                -0.0224      0.029     -0.774      0.439      -0.079       0.034\n",
      "os_Windows               -0.0057      0.042     -0.136      0.891      -0.088       0.076\n",
      "os_iOS                   -0.2414      0.142     -1.705      0.088      -0.519       0.036\n",
      "4g_yes                    0.0341      0.015      2.330      0.020       0.005       0.063\n",
      "5g_yes                    0.0186      0.027      0.680      0.496      -0.035       0.072\n",
      "==============================================================================\n",
      "Omnibus:                      108.175   Durbin-Watson:                   2.008\n",
      "Prob(Omnibus):                  0.000   Jarque-Bera (JB):              169.081\n",
      "Skew:                          -0.390   Prob(JB):                     1.93e-37\n",
      "Kurtosis:                       4.035   Cond. No.                     1.82e+05\n",
      "==============================================================================\n",
      "\n",
      "Notes:\n",
      "[1] Standard Errors assume that the covariance matrix of the errors is correctly specified.\n",
      "[2] The condition number is large, 1.82e+05. This might indicate that there are\n",
      "strong multicollinearity or other numerical problems.\n"
     ]
    },
    {
     "name": "stderr",
     "output_type": "stream",
     "text": [
      "/home/willies/anaconda3/lib/python3.9/site-packages/statsmodels/tsa/tsatools.py:142: FutureWarning: In a future version of pandas all arguments of concat except for the argument 'objs' will be keyword-only\n",
      "  x = pd.concat(x[::order], 1)\n"
     ]
    }
   ],
   "source": [
    "import statsmodels.api as sm\n",
    "\n",
    "x_train1 = sm.add_constant(x_train)\n",
    "# adding constant to the test data\n",
    "x_test1 = sm.add_constant(x_test)\n",
    "\n",
    "olsmod0 = sm.OLS(y_train, x_train1).fit()\n",
    "print(olsmod0.summary())"
   ]
  },
  {
   "cell_type": "markdown",
   "metadata": {
    "id": "a9GxSQf-qH8e"
   },
   "source": [
    "## Checking Linear Regression Assumptions"
   ]
  },
  {
   "cell_type": "markdown",
   "metadata": {
    "id": "UdGv3pQF50xP"
   },
   "source": [
    "- In order to make statistical inferences from a linear regression model, it is important to ensure that the assumptions of linear regression are satisfied."
   ]
  },
  {
   "cell_type": "markdown",
   "metadata": {
    "id": "naX-iXItqH-b"
   },
   "source": [
    "We will be checking the multicollinearity."
   ]
  },
  {
   "cell_type": "markdown",
   "metadata": {},
   "source": [
    "#### TEST FOR MULTICOLLINEARITY\n",
    "Variance inflation factor (VIF) is a measure of the amount of multicollinearity in a set of multiple regression variables.\n",
    "\n",
    "- VIF of 1-5 : low multicollinearity\n",
    "- VIF of 5-10 : moderate multicollinearity\n",
    "- VIF of > 10 : high multicollinearity"
   ]
  },
  {
   "cell_type": "code",
   "execution_count": 180,
   "metadata": {},
   "outputs": [],
   "source": [
    "from statsmodels.stats.outliers_influence import variance_inflation_factor\n",
    "\n",
    "# we will define a function to check VIF\n",
    "def check_vif(predictors):\n",
    "    vif = pd.DataFrame()\n",
    "    vif[\"feature\"] = predictors.columns\n",
    "\n",
    "    # Let's calculate VIF for each feature\n",
    "    vif[\"VIF\"] = [\n",
    "        round(variance_inflation_factor(predictors.values, i), 2)\n",
    "        for i in range(len(predictors.columns))\n",
    "    ]\n",
    "    return vif"
   ]
  },
  {
   "cell_type": "code",
   "execution_count": 181,
   "metadata": {
    "scrolled": true,
    "tags": []
   },
   "outputs": [
    {
     "data": {
      "text/html": [
       "<div>\n",
       "<style scoped>\n",
       "    .dataframe tbody tr th:only-of-type {\n",
       "        vertical-align: middle;\n",
       "    }\n",
       "\n",
       "    .dataframe tbody tr th {\n",
       "        vertical-align: top;\n",
       "    }\n",
       "\n",
       "    .dataframe thead th {\n",
       "        text-align: right;\n",
       "    }\n",
       "</style>\n",
       "<table border=\"1\" class=\"dataframe\">\n",
       "  <thead>\n",
       "    <tr style=\"text-align: right;\">\n",
       "      <th></th>\n",
       "      <th>feature</th>\n",
       "      <th>VIF</th>\n",
       "    </tr>\n",
       "  </thead>\n",
       "  <tbody>\n",
       "    <tr>\n",
       "      <th>0</th>\n",
       "      <td>const</td>\n",
       "      <td>237.40</td>\n",
       "    </tr>\n",
       "    <tr>\n",
       "      <th>1</th>\n",
       "      <td>screen_size</td>\n",
       "      <td>5.42</td>\n",
       "    </tr>\n",
       "    <tr>\n",
       "      <th>2</th>\n",
       "      <td>main_camera_mp</td>\n",
       "      <td>2.55</td>\n",
       "    </tr>\n",
       "    <tr>\n",
       "      <th>3</th>\n",
       "      <td>selfie_camera_mp</td>\n",
       "      <td>3.36</td>\n",
       "    </tr>\n",
       "    <tr>\n",
       "      <th>4</th>\n",
       "      <td>int_memory</td>\n",
       "      <td>2.33</td>\n",
       "    </tr>\n",
       "    <tr>\n",
       "      <th>5</th>\n",
       "      <td>battery</td>\n",
       "      <td>3.73</td>\n",
       "    </tr>\n",
       "    <tr>\n",
       "      <th>6</th>\n",
       "      <td>weight</td>\n",
       "      <td>4.66</td>\n",
       "    </tr>\n",
       "    <tr>\n",
       "      <th>7</th>\n",
       "      <td>days_used</td>\n",
       "      <td>1.90</td>\n",
       "    </tr>\n",
       "    <tr>\n",
       "      <th>8</th>\n",
       "      <td>normalized_new_price</td>\n",
       "      <td>2.96</td>\n",
       "    </tr>\n",
       "    <tr>\n",
       "      <th>9</th>\n",
       "      <td>brand_name_Alcatel</td>\n",
       "      <td>3.46</td>\n",
       "    </tr>\n",
       "    <tr>\n",
       "      <th>10</th>\n",
       "      <td>brand_name_Apple</td>\n",
       "      <td>10.95</td>\n",
       "    </tr>\n",
       "    <tr>\n",
       "      <th>11</th>\n",
       "      <td>brand_name_Asus</td>\n",
       "      <td>3.65</td>\n",
       "    </tr>\n",
       "    <tr>\n",
       "      <th>12</th>\n",
       "      <td>brand_name_BlackBerry</td>\n",
       "      <td>1.63</td>\n",
       "    </tr>\n",
       "    <tr>\n",
       "      <th>13</th>\n",
       "      <td>brand_name_Celkon</td>\n",
       "      <td>1.87</td>\n",
       "    </tr>\n",
       "    <tr>\n",
       "      <th>14</th>\n",
       "      <td>brand_name_Coolpad</td>\n",
       "      <td>1.58</td>\n",
       "    </tr>\n",
       "    <tr>\n",
       "      <th>15</th>\n",
       "      <td>brand_name_Gionee</td>\n",
       "      <td>2.08</td>\n",
       "    </tr>\n",
       "    <tr>\n",
       "      <th>16</th>\n",
       "      <td>brand_name_Google</td>\n",
       "      <td>1.38</td>\n",
       "    </tr>\n",
       "    <tr>\n",
       "      <th>17</th>\n",
       "      <td>brand_name_HTC</td>\n",
       "      <td>3.47</td>\n",
       "    </tr>\n",
       "    <tr>\n",
       "      <th>18</th>\n",
       "      <td>brand_name_Honor</td>\n",
       "      <td>3.57</td>\n",
       "    </tr>\n",
       "    <tr>\n",
       "      <th>19</th>\n",
       "      <td>brand_name_Huawei</td>\n",
       "      <td>6.41</td>\n",
       "    </tr>\n",
       "    <tr>\n",
       "      <th>20</th>\n",
       "      <td>brand_name_Infinix</td>\n",
       "      <td>1.21</td>\n",
       "    </tr>\n",
       "    <tr>\n",
       "      <th>21</th>\n",
       "      <td>brand_name_Karbonn</td>\n",
       "      <td>1.63</td>\n",
       "    </tr>\n",
       "    <tr>\n",
       "      <th>22</th>\n",
       "      <td>brand_name_LG</td>\n",
       "      <td>5.38</td>\n",
       "    </tr>\n",
       "    <tr>\n",
       "      <th>23</th>\n",
       "      <td>brand_name_Lava</td>\n",
       "      <td>1.83</td>\n",
       "    </tr>\n",
       "    <tr>\n",
       "      <th>24</th>\n",
       "      <td>brand_name_Lenovo</td>\n",
       "      <td>4.71</td>\n",
       "    </tr>\n",
       "    <tr>\n",
       "      <th>25</th>\n",
       "      <td>brand_name_Meizu</td>\n",
       "      <td>2.43</td>\n",
       "    </tr>\n",
       "    <tr>\n",
       "      <th>26</th>\n",
       "      <td>brand_name_Micromax</td>\n",
       "      <td>3.77</td>\n",
       "    </tr>\n",
       "    <tr>\n",
       "      <th>27</th>\n",
       "      <td>brand_name_Microsoft</td>\n",
       "      <td>2.08</td>\n",
       "    </tr>\n",
       "    <tr>\n",
       "      <th>28</th>\n",
       "      <td>brand_name_Motorola</td>\n",
       "      <td>3.49</td>\n",
       "    </tr>\n",
       "    <tr>\n",
       "      <th>29</th>\n",
       "      <td>brand_name_Nokia</td>\n",
       "      <td>3.69</td>\n",
       "    </tr>\n",
       "    <tr>\n",
       "      <th>30</th>\n",
       "      <td>brand_name_OnePlus</td>\n",
       "      <td>1.60</td>\n",
       "    </tr>\n",
       "    <tr>\n",
       "      <th>31</th>\n",
       "      <td>brand_name_Oppo</td>\n",
       "      <td>4.30</td>\n",
       "    </tr>\n",
       "    <tr>\n",
       "      <th>32</th>\n",
       "      <td>brand_name_Others</td>\n",
       "      <td>10.84</td>\n",
       "    </tr>\n",
       "    <tr>\n",
       "      <th>33</th>\n",
       "      <td>brand_name_Panasonic</td>\n",
       "      <td>1.89</td>\n",
       "    </tr>\n",
       "    <tr>\n",
       "      <th>34</th>\n",
       "      <td>brand_name_Realme</td>\n",
       "      <td>1.98</td>\n",
       "    </tr>\n",
       "    <tr>\n",
       "      <th>35</th>\n",
       "      <td>brand_name_Samsung</td>\n",
       "      <td>8.03</td>\n",
       "    </tr>\n",
       "    <tr>\n",
       "      <th>36</th>\n",
       "      <td>brand_name_Sony</td>\n",
       "      <td>2.90</td>\n",
       "    </tr>\n",
       "    <tr>\n",
       "      <th>37</th>\n",
       "      <td>brand_name_Spice</td>\n",
       "      <td>1.64</td>\n",
       "    </tr>\n",
       "    <tr>\n",
       "      <th>38</th>\n",
       "      <td>brand_name_Vivo</td>\n",
       "      <td>3.77</td>\n",
       "    </tr>\n",
       "    <tr>\n",
       "      <th>39</th>\n",
       "      <td>brand_name_XOLO</td>\n",
       "      <td>2.17</td>\n",
       "    </tr>\n",
       "    <tr>\n",
       "      <th>40</th>\n",
       "      <td>brand_name_Xiaomi</td>\n",
       "      <td>4.09</td>\n",
       "    </tr>\n",
       "    <tr>\n",
       "      <th>41</th>\n",
       "      <td>brand_name_ZTE</td>\n",
       "      <td>4.35</td>\n",
       "    </tr>\n",
       "    <tr>\n",
       "      <th>42</th>\n",
       "      <td>os_Others</td>\n",
       "      <td>1.58</td>\n",
       "    </tr>\n",
       "    <tr>\n",
       "      <th>43</th>\n",
       "      <td>os_Windows</td>\n",
       "      <td>1.72</td>\n",
       "    </tr>\n",
       "    <tr>\n",
       "      <th>44</th>\n",
       "      <td>os_iOS</td>\n",
       "      <td>9.78</td>\n",
       "    </tr>\n",
       "    <tr>\n",
       "      <th>45</th>\n",
       "      <td>4g_yes</td>\n",
       "      <td>2.22</td>\n",
       "    </tr>\n",
       "    <tr>\n",
       "      <th>46</th>\n",
       "      <td>5g_yes</td>\n",
       "      <td>1.39</td>\n",
       "    </tr>\n",
       "  </tbody>\n",
       "</table>\n",
       "</div>"
      ],
      "text/plain": [
       "                  feature     VIF\n",
       "0                   const  237.40\n",
       "1             screen_size    5.42\n",
       "2          main_camera_mp    2.55\n",
       "3        selfie_camera_mp    3.36\n",
       "4              int_memory    2.33\n",
       "5                 battery    3.73\n",
       "6                  weight    4.66\n",
       "7               days_used    1.90\n",
       "8    normalized_new_price    2.96\n",
       "9      brand_name_Alcatel    3.46\n",
       "10       brand_name_Apple   10.95\n",
       "11        brand_name_Asus    3.65\n",
       "12  brand_name_BlackBerry    1.63\n",
       "13      brand_name_Celkon    1.87\n",
       "14     brand_name_Coolpad    1.58\n",
       "15      brand_name_Gionee    2.08\n",
       "16      brand_name_Google    1.38\n",
       "17         brand_name_HTC    3.47\n",
       "18       brand_name_Honor    3.57\n",
       "19      brand_name_Huawei    6.41\n",
       "20     brand_name_Infinix    1.21\n",
       "21     brand_name_Karbonn    1.63\n",
       "22          brand_name_LG    5.38\n",
       "23        brand_name_Lava    1.83\n",
       "24      brand_name_Lenovo    4.71\n",
       "25       brand_name_Meizu    2.43\n",
       "26    brand_name_Micromax    3.77\n",
       "27   brand_name_Microsoft    2.08\n",
       "28    brand_name_Motorola    3.49\n",
       "29       brand_name_Nokia    3.69\n",
       "30     brand_name_OnePlus    1.60\n",
       "31        brand_name_Oppo    4.30\n",
       "32      brand_name_Others   10.84\n",
       "33   brand_name_Panasonic    1.89\n",
       "34      brand_name_Realme    1.98\n",
       "35     brand_name_Samsung    8.03\n",
       "36        brand_name_Sony    2.90\n",
       "37       brand_name_Spice    1.64\n",
       "38        brand_name_Vivo    3.77\n",
       "39        brand_name_XOLO    2.17\n",
       "40      brand_name_Xiaomi    4.09\n",
       "41         brand_name_ZTE    4.35\n",
       "42              os_Others    1.58\n",
       "43             os_Windows    1.72\n",
       "44                 os_iOS    9.78\n",
       "45                 4g_yes    2.22\n",
       "46                 5g_yes    1.39"
      ]
     },
     "execution_count": 181,
     "metadata": {},
     "output_type": "execute_result"
    }
   ],
   "source": [
    "check_vif(x_train1)"
   ]
  },
  {
   "cell_type": "markdown",
   "metadata": {},
   "source": [
    "The normalized_new_price of a used phone has VIF of 2.96"
   ]
  },
  {
   "cell_type": "markdown",
   "metadata": {},
   "source": [
    "Let's remove multicollinearity of VIF above 5"
   ]
  },
  {
   "cell_type": "code",
   "execution_count": 182,
   "metadata": {},
   "outputs": [],
   "source": [
    "# Let's define a function that will help us do this.\n",
    "\n",
    "def treating_multicollinearity(predictors, target, high_vif_columns):\n",
    " \n",
    "    # Create an empty list to store adj. R-squared and RMSE values\n",
    "    adj_r2 = []\n",
    "    rmse = []\n",
    "\n",
    "    # build ols models by dropping one of the high VIF columns at a time\n",
    "    # store the adjusted R-squared and RMSE in the lists defined previously\n",
    "    for cols in high_vif_columns:\n",
    "        # We define the new train set\n",
    "        train = predictors.loc[:, ~predictors.columns.str.startswith(cols)]\n",
    "\n",
    "        # Let's create the model\n",
    "        olsmodel = sm.OLS(target, train).fit()\n",
    "\n",
    "        # adding adj. R-squared and RMSE to the lists\n",
    "        adj_r2.append(olsmodel.rsquared_adj)\n",
    "        rmse.append(np.sqrt(olsmodel.mse_resid))\n",
    "\n",
    "    # Let's create a dataframe for the results\n",
    "    temp = pd.DataFrame(\n",
    "        {\n",
    "            \"col\": high_vif_columns,\n",
    "            \"Adj. R-squared after_dropping col\": adj_r2,\n",
    "            \"RMSE after dropping col\": rmse,\n",
    "        }\n",
    "    ).sort_values(by=\"Adj. R-squared after_dropping col\", ascending=False)\n",
    "    temp.reset_index(drop=True, inplace=True)\n",
    "\n",
    "    return temp"
   ]
  },
  {
   "cell_type": "code",
   "execution_count": 183,
   "metadata": {},
   "outputs": [
    {
     "data": {
      "text/html": [
       "<div>\n",
       "<style scoped>\n",
       "    .dataframe tbody tr th:only-of-type {\n",
       "        vertical-align: middle;\n",
       "    }\n",
       "\n",
       "    .dataframe tbody tr th {\n",
       "        vertical-align: top;\n",
       "    }\n",
       "\n",
       "    .dataframe thead th {\n",
       "        text-align: right;\n",
       "    }\n",
       "</style>\n",
       "<table border=\"1\" class=\"dataframe\">\n",
       "  <thead>\n",
       "    <tr style=\"text-align: right;\">\n",
       "      <th></th>\n",
       "      <th>col</th>\n",
       "      <th>Adj. R-squared after_dropping col</th>\n",
       "      <th>RMSE after dropping col</th>\n",
       "    </tr>\n",
       "  </thead>\n",
       "  <tbody>\n",
       "    <tr>\n",
       "      <th>0</th>\n",
       "      <td>brand_name_Samsung</td>\n",
       "      <td>0.841302</td>\n",
       "      <td>0.225037</td>\n",
       "    </tr>\n",
       "    <tr>\n",
       "      <th>1</th>\n",
       "      <td>brand_name_LG</td>\n",
       "      <td>0.841256</td>\n",
       "      <td>0.225069</td>\n",
       "    </tr>\n",
       "    <tr>\n",
       "      <th>2</th>\n",
       "      <td>brand_name_Huawei</td>\n",
       "      <td>0.841255</td>\n",
       "      <td>0.225070</td>\n",
       "    </tr>\n",
       "    <tr>\n",
       "      <th>3</th>\n",
       "      <td>brand_name_Others</td>\n",
       "      <td>0.841219</td>\n",
       "      <td>0.225095</td>\n",
       "    </tr>\n",
       "    <tr>\n",
       "      <th>4</th>\n",
       "      <td>os_iOS</td>\n",
       "      <td>0.841132</td>\n",
       "      <td>0.225157</td>\n",
       "    </tr>\n",
       "    <tr>\n",
       "      <th>5</th>\n",
       "      <td>brand_name_Apple</td>\n",
       "      <td>0.841063</td>\n",
       "      <td>0.225205</td>\n",
       "    </tr>\n",
       "  </tbody>\n",
       "</table>\n",
       "</div>"
      ],
      "text/plain": [
       "                  col  Adj. R-squared after_dropping col  \\\n",
       "0  brand_name_Samsung                           0.841302   \n",
       "1       brand_name_LG                           0.841256   \n",
       "2   brand_name_Huawei                           0.841255   \n",
       "3   brand_name_Others                           0.841219   \n",
       "4              os_iOS                           0.841132   \n",
       "5    brand_name_Apple                           0.841063   \n",
       "\n",
       "   RMSE after dropping col  \n",
       "0                 0.225037  \n",
       "1                 0.225069  \n",
       "2                 0.225070  \n",
       "3                 0.225095  \n",
       "4                 0.225157  \n",
       "5                 0.225205  "
      ]
     },
     "execution_count": 183,
     "metadata": {},
     "output_type": "execute_result"
    }
   ],
   "source": [
    "col_list = [\n",
    "    \"brand_name_Apple\",\n",
    "    \"os_iOS\",\n",
    "    \"brand_name_Others\",\n",
    "    \"brand_name_Samsung\",\n",
    "    \"brand_name_Huawei\",\n",
    "    \"brand_name_LG\",\n",
    "]\n",
    "\n",
    "res = treating_multicollinearity(x_train1, y_train, col_list)\n",
    "res"
   ]
  },
  {
   "cell_type": "code",
   "execution_count": 184,
   "metadata": {
    "scrolled": true,
    "tags": []
   },
   "outputs": [
    {
     "name": "stdout",
     "output_type": "stream",
     "text": [
      "VIF after dropping  brand_name_Huawei\n"
     ]
    },
    {
     "data": {
      "text/html": [
       "<div>\n",
       "<style scoped>\n",
       "    .dataframe tbody tr th:only-of-type {\n",
       "        vertical-align: middle;\n",
       "    }\n",
       "\n",
       "    .dataframe tbody tr th {\n",
       "        vertical-align: top;\n",
       "    }\n",
       "\n",
       "    .dataframe thead th {\n",
       "        text-align: right;\n",
       "    }\n",
       "</style>\n",
       "<table border=\"1\" class=\"dataframe\">\n",
       "  <thead>\n",
       "    <tr style=\"text-align: right;\">\n",
       "      <th></th>\n",
       "      <th>feature</th>\n",
       "      <th>VIF</th>\n",
       "    </tr>\n",
       "  </thead>\n",
       "  <tbody>\n",
       "    <tr>\n",
       "      <th>0</th>\n",
       "      <td>const</td>\n",
       "      <td>166.41</td>\n",
       "    </tr>\n",
       "    <tr>\n",
       "      <th>1</th>\n",
       "      <td>screen_size</td>\n",
       "      <td>5.42</td>\n",
       "    </tr>\n",
       "    <tr>\n",
       "      <th>2</th>\n",
       "      <td>main_camera_mp</td>\n",
       "      <td>2.55</td>\n",
       "    </tr>\n",
       "    <tr>\n",
       "      <th>3</th>\n",
       "      <td>selfie_camera_mp</td>\n",
       "      <td>3.36</td>\n",
       "    </tr>\n",
       "    <tr>\n",
       "      <th>4</th>\n",
       "      <td>int_memory</td>\n",
       "      <td>2.32</td>\n",
       "    </tr>\n",
       "    <tr>\n",
       "      <th>5</th>\n",
       "      <td>battery</td>\n",
       "      <td>3.73</td>\n",
       "    </tr>\n",
       "    <tr>\n",
       "      <th>6</th>\n",
       "      <td>weight</td>\n",
       "      <td>4.65</td>\n",
       "    </tr>\n",
       "    <tr>\n",
       "      <th>7</th>\n",
       "      <td>days_used</td>\n",
       "      <td>1.90</td>\n",
       "    </tr>\n",
       "    <tr>\n",
       "      <th>8</th>\n",
       "      <td>normalized_new_price</td>\n",
       "      <td>2.96</td>\n",
       "    </tr>\n",
       "    <tr>\n",
       "      <th>9</th>\n",
       "      <td>brand_name_Alcatel</td>\n",
       "      <td>1.41</td>\n",
       "    </tr>\n",
       "    <tr>\n",
       "      <th>10</th>\n",
       "      <td>brand_name_Apple</td>\n",
       "      <td>10.13</td>\n",
       "    </tr>\n",
       "    <tr>\n",
       "      <th>11</th>\n",
       "      <td>brand_name_Asus</td>\n",
       "      <td>1.39</td>\n",
       "    </tr>\n",
       "    <tr>\n",
       "      <th>12</th>\n",
       "      <td>brand_name_BlackBerry</td>\n",
       "      <td>1.15</td>\n",
       "    </tr>\n",
       "    <tr>\n",
       "      <th>13</th>\n",
       "      <td>brand_name_Celkon</td>\n",
       "      <td>1.27</td>\n",
       "    </tr>\n",
       "    <tr>\n",
       "      <th>14</th>\n",
       "      <td>brand_name_Coolpad</td>\n",
       "      <td>1.09</td>\n",
       "    </tr>\n",
       "    <tr>\n",
       "      <th>15</th>\n",
       "      <td>brand_name_Gionee</td>\n",
       "      <td>1.17</td>\n",
       "    </tr>\n",
       "    <tr>\n",
       "      <th>16</th>\n",
       "      <td>brand_name_Google</td>\n",
       "      <td>1.07</td>\n",
       "    </tr>\n",
       "    <tr>\n",
       "      <th>17</th>\n",
       "      <td>brand_name_HTC</td>\n",
       "      <td>1.39</td>\n",
       "    </tr>\n",
       "    <tr>\n",
       "      <th>18</th>\n",
       "      <td>brand_name_Honor</td>\n",
       "      <td>1.37</td>\n",
       "    </tr>\n",
       "    <tr>\n",
       "      <th>19</th>\n",
       "      <td>brand_name_Infinix</td>\n",
       "      <td>1.06</td>\n",
       "    </tr>\n",
       "    <tr>\n",
       "      <th>20</th>\n",
       "      <td>brand_name_Karbonn</td>\n",
       "      <td>1.13</td>\n",
       "    </tr>\n",
       "    <tr>\n",
       "      <th>21</th>\n",
       "      <td>brand_name_LG</td>\n",
       "      <td>1.65</td>\n",
       "    </tr>\n",
       "    <tr>\n",
       "      <th>22</th>\n",
       "      <td>brand_name_Lava</td>\n",
       "      <td>1.16</td>\n",
       "    </tr>\n",
       "    <tr>\n",
       "      <th>23</th>\n",
       "      <td>brand_name_Lenovo</td>\n",
       "      <td>1.54</td>\n",
       "    </tr>\n",
       "    <tr>\n",
       "      <th>24</th>\n",
       "      <td>brand_name_Meizu</td>\n",
       "      <td>1.21</td>\n",
       "    </tr>\n",
       "    <tr>\n",
       "      <th>25</th>\n",
       "      <td>brand_name_Micromax</td>\n",
       "      <td>1.51</td>\n",
       "    </tr>\n",
       "    <tr>\n",
       "      <th>26</th>\n",
       "      <td>brand_name_Microsoft</td>\n",
       "      <td>1.64</td>\n",
       "    </tr>\n",
       "    <tr>\n",
       "      <th>27</th>\n",
       "      <td>brand_name_Motorola</td>\n",
       "      <td>1.37</td>\n",
       "    </tr>\n",
       "    <tr>\n",
       "      <th>28</th>\n",
       "      <td>brand_name_Nokia</td>\n",
       "      <td>1.69</td>\n",
       "    </tr>\n",
       "    <tr>\n",
       "      <th>29</th>\n",
       "      <td>brand_name_OnePlus</td>\n",
       "      <td>1.12</td>\n",
       "    </tr>\n",
       "    <tr>\n",
       "      <th>30</th>\n",
       "      <td>brand_name_Oppo</td>\n",
       "      <td>1.49</td>\n",
       "    </tr>\n",
       "    <tr>\n",
       "      <th>31</th>\n",
       "      <td>brand_name_Others</td>\n",
       "      <td>2.52</td>\n",
       "    </tr>\n",
       "    <tr>\n",
       "      <th>32</th>\n",
       "      <td>brand_name_Panasonic</td>\n",
       "      <td>1.14</td>\n",
       "    </tr>\n",
       "    <tr>\n",
       "      <th>33</th>\n",
       "      <td>brand_name_Realme</td>\n",
       "      <td>1.18</td>\n",
       "    </tr>\n",
       "    <tr>\n",
       "      <th>34</th>\n",
       "      <td>brand_name_Samsung</td>\n",
       "      <td>2.03</td>\n",
       "    </tr>\n",
       "    <tr>\n",
       "      <th>35</th>\n",
       "      <td>brand_name_Sony</td>\n",
       "      <td>1.33</td>\n",
       "    </tr>\n",
       "    <tr>\n",
       "      <th>36</th>\n",
       "      <td>brand_name_Spice</td>\n",
       "      <td>1.15</td>\n",
       "    </tr>\n",
       "    <tr>\n",
       "      <th>37</th>\n",
       "      <td>brand_name_Vivo</td>\n",
       "      <td>1.41</td>\n",
       "    </tr>\n",
       "    <tr>\n",
       "      <th>38</th>\n",
       "      <td>brand_name_XOLO</td>\n",
       "      <td>1.23</td>\n",
       "    </tr>\n",
       "    <tr>\n",
       "      <th>39</th>\n",
       "      <td>brand_name_Xiaomi</td>\n",
       "      <td>1.45</td>\n",
       "    </tr>\n",
       "    <tr>\n",
       "      <th>40</th>\n",
       "      <td>brand_name_ZTE</td>\n",
       "      <td>1.50</td>\n",
       "    </tr>\n",
       "    <tr>\n",
       "      <th>41</th>\n",
       "      <td>os_Others</td>\n",
       "      <td>1.58</td>\n",
       "    </tr>\n",
       "    <tr>\n",
       "      <th>42</th>\n",
       "      <td>os_Windows</td>\n",
       "      <td>1.72</td>\n",
       "    </tr>\n",
       "    <tr>\n",
       "      <th>43</th>\n",
       "      <td>os_iOS</td>\n",
       "      <td>9.78</td>\n",
       "    </tr>\n",
       "    <tr>\n",
       "      <th>44</th>\n",
       "      <td>4g_yes</td>\n",
       "      <td>2.21</td>\n",
       "    </tr>\n",
       "    <tr>\n",
       "      <th>45</th>\n",
       "      <td>5g_yes</td>\n",
       "      <td>1.39</td>\n",
       "    </tr>\n",
       "  </tbody>\n",
       "</table>\n",
       "</div>"
      ],
      "text/plain": [
       "                  feature     VIF\n",
       "0                   const  166.41\n",
       "1             screen_size    5.42\n",
       "2          main_camera_mp    2.55\n",
       "3        selfie_camera_mp    3.36\n",
       "4              int_memory    2.32\n",
       "5                 battery    3.73\n",
       "6                  weight    4.65\n",
       "7               days_used    1.90\n",
       "8    normalized_new_price    2.96\n",
       "9      brand_name_Alcatel    1.41\n",
       "10       brand_name_Apple   10.13\n",
       "11        brand_name_Asus    1.39\n",
       "12  brand_name_BlackBerry    1.15\n",
       "13      brand_name_Celkon    1.27\n",
       "14     brand_name_Coolpad    1.09\n",
       "15      brand_name_Gionee    1.17\n",
       "16      brand_name_Google    1.07\n",
       "17         brand_name_HTC    1.39\n",
       "18       brand_name_Honor    1.37\n",
       "19     brand_name_Infinix    1.06\n",
       "20     brand_name_Karbonn    1.13\n",
       "21          brand_name_LG    1.65\n",
       "22        brand_name_Lava    1.16\n",
       "23      brand_name_Lenovo    1.54\n",
       "24       brand_name_Meizu    1.21\n",
       "25    brand_name_Micromax    1.51\n",
       "26   brand_name_Microsoft    1.64\n",
       "27    brand_name_Motorola    1.37\n",
       "28       brand_name_Nokia    1.69\n",
       "29     brand_name_OnePlus    1.12\n",
       "30        brand_name_Oppo    1.49\n",
       "31      brand_name_Others    2.52\n",
       "32   brand_name_Panasonic    1.14\n",
       "33      brand_name_Realme    1.18\n",
       "34     brand_name_Samsung    2.03\n",
       "35        brand_name_Sony    1.33\n",
       "36       brand_name_Spice    1.15\n",
       "37        brand_name_Vivo    1.41\n",
       "38        brand_name_XOLO    1.23\n",
       "39      brand_name_Xiaomi    1.45\n",
       "40         brand_name_ZTE    1.50\n",
       "41              os_Others    1.58\n",
       "42             os_Windows    1.72\n",
       "43                 os_iOS    9.78\n",
       "44                 4g_yes    2.21\n",
       "45                 5g_yes    1.39"
      ]
     },
     "execution_count": 184,
     "metadata": {},
     "output_type": "execute_result"
    }
   ],
   "source": [
    "# Let's drop brand_name_Huawei\n",
    "\n",
    "col_to_drop = \"brand_name_Huawei\"\n",
    "X_train2 = x_train1.loc[:, ~x_train1.columns.str.startswith(col_to_drop)]\n",
    "X_test2 = x_test1.loc[:, ~x_test1.columns.str.startswith(col_to_drop)]\n",
    "\n",
    "# Check VIF now\n",
    "vif = check_vif(X_train2)\n",
    "print(\"VIF after dropping \", col_to_drop)\n",
    "vif"
   ]
  },
  {
   "cell_type": "markdown",
   "metadata": {},
   "source": [
    "VIF for brand_name_Apple and os_iOS is still high."
   ]
  },
  {
   "cell_type": "code",
   "execution_count": 185,
   "metadata": {},
   "outputs": [
    {
     "data": {
      "text/html": [
       "<div>\n",
       "<style scoped>\n",
       "    .dataframe tbody tr th:only-of-type {\n",
       "        vertical-align: middle;\n",
       "    }\n",
       "\n",
       "    .dataframe tbody tr th {\n",
       "        vertical-align: top;\n",
       "    }\n",
       "\n",
       "    .dataframe thead th {\n",
       "        text-align: right;\n",
       "    }\n",
       "</style>\n",
       "<table border=\"1\" class=\"dataframe\">\n",
       "  <thead>\n",
       "    <tr style=\"text-align: right;\">\n",
       "      <th></th>\n",
       "      <th>col</th>\n",
       "      <th>Adj. R-squared after_dropping col</th>\n",
       "      <th>RMSE after dropping col</th>\n",
       "    </tr>\n",
       "  </thead>\n",
       "  <tbody>\n",
       "    <tr>\n",
       "      <th>0</th>\n",
       "      <td>os_iOS</td>\n",
       "      <td>0.841125</td>\n",
       "      <td>0.225161</td>\n",
       "    </tr>\n",
       "    <tr>\n",
       "      <th>1</th>\n",
       "      <td>brand_name_Apple</td>\n",
       "      <td>0.840950</td>\n",
       "      <td>0.225285</td>\n",
       "    </tr>\n",
       "  </tbody>\n",
       "</table>\n",
       "</div>"
      ],
      "text/plain": [
       "                col  Adj. R-squared after_dropping col  \\\n",
       "0            os_iOS                           0.841125   \n",
       "1  brand_name_Apple                           0.840950   \n",
       "\n",
       "   RMSE after dropping col  \n",
       "0                 0.225161  \n",
       "1                 0.225285  "
      ]
     },
     "execution_count": 185,
     "metadata": {},
     "output_type": "execute_result"
    }
   ],
   "source": [
    "col_list = [\n",
    "    \"brand_name_Apple\",\n",
    "    \"os_iOS\",\n",
    "]\n",
    "\n",
    "res = treating_multicollinearity(X_train2, y_train, col_list)\n",
    "res"
   ]
  },
  {
   "cell_type": "code",
   "execution_count": 187,
   "metadata": {
    "scrolled": true,
    "tags": []
   },
   "outputs": [
    {
     "name": "stdout",
     "output_type": "stream",
     "text": [
      "VIF after dropping  brand_name_Apple\n"
     ]
    },
    {
     "data": {
      "text/html": [
       "<div>\n",
       "<style scoped>\n",
       "    .dataframe tbody tr th:only-of-type {\n",
       "        vertical-align: middle;\n",
       "    }\n",
       "\n",
       "    .dataframe tbody tr th {\n",
       "        vertical-align: top;\n",
       "    }\n",
       "\n",
       "    .dataframe thead th {\n",
       "        text-align: right;\n",
       "    }\n",
       "</style>\n",
       "<table border=\"1\" class=\"dataframe\">\n",
       "  <thead>\n",
       "    <tr style=\"text-align: right;\">\n",
       "      <th></th>\n",
       "      <th>feature</th>\n",
       "      <th>VIF</th>\n",
       "    </tr>\n",
       "  </thead>\n",
       "  <tbody>\n",
       "    <tr>\n",
       "      <th>0</th>\n",
       "      <td>const</td>\n",
       "      <td>165.17</td>\n",
       "    </tr>\n",
       "    <tr>\n",
       "      <th>1</th>\n",
       "      <td>screen_size</td>\n",
       "      <td>5.42</td>\n",
       "    </tr>\n",
       "    <tr>\n",
       "      <th>2</th>\n",
       "      <td>main_camera_mp</td>\n",
       "      <td>2.55</td>\n",
       "    </tr>\n",
       "    <tr>\n",
       "      <th>3</th>\n",
       "      <td>selfie_camera_mp</td>\n",
       "      <td>3.33</td>\n",
       "    </tr>\n",
       "    <tr>\n",
       "      <th>4</th>\n",
       "      <td>int_memory</td>\n",
       "      <td>2.32</td>\n",
       "    </tr>\n",
       "    <tr>\n",
       "      <th>5</th>\n",
       "      <td>battery</td>\n",
       "      <td>3.72</td>\n",
       "    </tr>\n",
       "    <tr>\n",
       "      <th>6</th>\n",
       "      <td>weight</td>\n",
       "      <td>4.65</td>\n",
       "    </tr>\n",
       "    <tr>\n",
       "      <th>7</th>\n",
       "      <td>days_used</td>\n",
       "      <td>1.89</td>\n",
       "    </tr>\n",
       "    <tr>\n",
       "      <th>8</th>\n",
       "      <td>normalized_new_price</td>\n",
       "      <td>2.92</td>\n",
       "    </tr>\n",
       "    <tr>\n",
       "      <th>9</th>\n",
       "      <td>brand_name_Alcatel</td>\n",
       "      <td>1.40</td>\n",
       "    </tr>\n",
       "    <tr>\n",
       "      <th>10</th>\n",
       "      <td>brand_name_Asus</td>\n",
       "      <td>1.39</td>\n",
       "    </tr>\n",
       "    <tr>\n",
       "      <th>11</th>\n",
       "      <td>brand_name_BlackBerry</td>\n",
       "      <td>1.14</td>\n",
       "    </tr>\n",
       "    <tr>\n",
       "      <th>12</th>\n",
       "      <td>brand_name_Celkon</td>\n",
       "      <td>1.27</td>\n",
       "    </tr>\n",
       "    <tr>\n",
       "      <th>13</th>\n",
       "      <td>brand_name_Coolpad</td>\n",
       "      <td>1.09</td>\n",
       "    </tr>\n",
       "    <tr>\n",
       "      <th>14</th>\n",
       "      <td>brand_name_Gionee</td>\n",
       "      <td>1.17</td>\n",
       "    </tr>\n",
       "    <tr>\n",
       "      <th>15</th>\n",
       "      <td>brand_name_Google</td>\n",
       "      <td>1.06</td>\n",
       "    </tr>\n",
       "    <tr>\n",
       "      <th>16</th>\n",
       "      <td>brand_name_HTC</td>\n",
       "      <td>1.39</td>\n",
       "    </tr>\n",
       "    <tr>\n",
       "      <th>17</th>\n",
       "      <td>brand_name_Honor</td>\n",
       "      <td>1.37</td>\n",
       "    </tr>\n",
       "    <tr>\n",
       "      <th>18</th>\n",
       "      <td>brand_name_Infinix</td>\n",
       "      <td>1.06</td>\n",
       "    </tr>\n",
       "    <tr>\n",
       "      <th>19</th>\n",
       "      <td>brand_name_Karbonn</td>\n",
       "      <td>1.13</td>\n",
       "    </tr>\n",
       "    <tr>\n",
       "      <th>20</th>\n",
       "      <td>brand_name_LG</td>\n",
       "      <td>1.64</td>\n",
       "    </tr>\n",
       "    <tr>\n",
       "      <th>21</th>\n",
       "      <td>brand_name_Lava</td>\n",
       "      <td>1.16</td>\n",
       "    </tr>\n",
       "    <tr>\n",
       "      <th>22</th>\n",
       "      <td>brand_name_Lenovo</td>\n",
       "      <td>1.54</td>\n",
       "    </tr>\n",
       "    <tr>\n",
       "      <th>23</th>\n",
       "      <td>brand_name_Meizu</td>\n",
       "      <td>1.21</td>\n",
       "    </tr>\n",
       "    <tr>\n",
       "      <th>24</th>\n",
       "      <td>brand_name_Micromax</td>\n",
       "      <td>1.51</td>\n",
       "    </tr>\n",
       "    <tr>\n",
       "      <th>25</th>\n",
       "      <td>brand_name_Microsoft</td>\n",
       "      <td>1.64</td>\n",
       "    </tr>\n",
       "    <tr>\n",
       "      <th>26</th>\n",
       "      <td>brand_name_Motorola</td>\n",
       "      <td>1.37</td>\n",
       "    </tr>\n",
       "    <tr>\n",
       "      <th>27</th>\n",
       "      <td>brand_name_Nokia</td>\n",
       "      <td>1.67</td>\n",
       "    </tr>\n",
       "    <tr>\n",
       "      <th>28</th>\n",
       "      <td>brand_name_OnePlus</td>\n",
       "      <td>1.11</td>\n",
       "    </tr>\n",
       "    <tr>\n",
       "      <th>29</th>\n",
       "      <td>brand_name_Oppo</td>\n",
       "      <td>1.49</td>\n",
       "    </tr>\n",
       "    <tr>\n",
       "      <th>30</th>\n",
       "      <td>brand_name_Others</td>\n",
       "      <td>2.51</td>\n",
       "    </tr>\n",
       "    <tr>\n",
       "      <th>31</th>\n",
       "      <td>brand_name_Panasonic</td>\n",
       "      <td>1.14</td>\n",
       "    </tr>\n",
       "    <tr>\n",
       "      <th>32</th>\n",
       "      <td>brand_name_Realme</td>\n",
       "      <td>1.18</td>\n",
       "    </tr>\n",
       "    <tr>\n",
       "      <th>33</th>\n",
       "      <td>brand_name_Samsung</td>\n",
       "      <td>2.01</td>\n",
       "    </tr>\n",
       "    <tr>\n",
       "      <th>34</th>\n",
       "      <td>brand_name_Sony</td>\n",
       "      <td>1.33</td>\n",
       "    </tr>\n",
       "    <tr>\n",
       "      <th>35</th>\n",
       "      <td>brand_name_Spice</td>\n",
       "      <td>1.15</td>\n",
       "    </tr>\n",
       "    <tr>\n",
       "      <th>36</th>\n",
       "      <td>brand_name_Vivo</td>\n",
       "      <td>1.41</td>\n",
       "    </tr>\n",
       "    <tr>\n",
       "      <th>37</th>\n",
       "      <td>brand_name_XOLO</td>\n",
       "      <td>1.23</td>\n",
       "    </tr>\n",
       "    <tr>\n",
       "      <th>38</th>\n",
       "      <td>brand_name_Xiaomi</td>\n",
       "      <td>1.45</td>\n",
       "    </tr>\n",
       "    <tr>\n",
       "      <th>39</th>\n",
       "      <td>brand_name_ZTE</td>\n",
       "      <td>1.49</td>\n",
       "    </tr>\n",
       "    <tr>\n",
       "      <th>40</th>\n",
       "      <td>os_Others</td>\n",
       "      <td>1.50</td>\n",
       "    </tr>\n",
       "    <tr>\n",
       "      <th>41</th>\n",
       "      <td>os_Windows</td>\n",
       "      <td>1.72</td>\n",
       "    </tr>\n",
       "    <tr>\n",
       "      <th>42</th>\n",
       "      <td>os_iOS</td>\n",
       "      <td>1.18</td>\n",
       "    </tr>\n",
       "    <tr>\n",
       "      <th>43</th>\n",
       "      <td>4g_yes</td>\n",
       "      <td>2.21</td>\n",
       "    </tr>\n",
       "    <tr>\n",
       "      <th>44</th>\n",
       "      <td>5g_yes</td>\n",
       "      <td>1.38</td>\n",
       "    </tr>\n",
       "  </tbody>\n",
       "</table>\n",
       "</div>"
      ],
      "text/plain": [
       "                  feature     VIF\n",
       "0                   const  165.17\n",
       "1             screen_size    5.42\n",
       "2          main_camera_mp    2.55\n",
       "3        selfie_camera_mp    3.33\n",
       "4              int_memory    2.32\n",
       "5                 battery    3.72\n",
       "6                  weight    4.65\n",
       "7               days_used    1.89\n",
       "8    normalized_new_price    2.92\n",
       "9      brand_name_Alcatel    1.40\n",
       "10        brand_name_Asus    1.39\n",
       "11  brand_name_BlackBerry    1.14\n",
       "12      brand_name_Celkon    1.27\n",
       "13     brand_name_Coolpad    1.09\n",
       "14      brand_name_Gionee    1.17\n",
       "15      brand_name_Google    1.06\n",
       "16         brand_name_HTC    1.39\n",
       "17       brand_name_Honor    1.37\n",
       "18     brand_name_Infinix    1.06\n",
       "19     brand_name_Karbonn    1.13\n",
       "20          brand_name_LG    1.64\n",
       "21        brand_name_Lava    1.16\n",
       "22      brand_name_Lenovo    1.54\n",
       "23       brand_name_Meizu    1.21\n",
       "24    brand_name_Micromax    1.51\n",
       "25   brand_name_Microsoft    1.64\n",
       "26    brand_name_Motorola    1.37\n",
       "27       brand_name_Nokia    1.67\n",
       "28     brand_name_OnePlus    1.11\n",
       "29        brand_name_Oppo    1.49\n",
       "30      brand_name_Others    2.51\n",
       "31   brand_name_Panasonic    1.14\n",
       "32      brand_name_Realme    1.18\n",
       "33     brand_name_Samsung    2.01\n",
       "34        brand_name_Sony    1.33\n",
       "35       brand_name_Spice    1.15\n",
       "36        brand_name_Vivo    1.41\n",
       "37        brand_name_XOLO    1.23\n",
       "38      brand_name_Xiaomi    1.45\n",
       "39         brand_name_ZTE    1.49\n",
       "40              os_Others    1.50\n",
       "41             os_Windows    1.72\n",
       "42                 os_iOS    1.18\n",
       "43                 4g_yes    2.21\n",
       "44                 5g_yes    1.38"
      ]
     },
     "execution_count": 187,
     "metadata": {},
     "output_type": "execute_result"
    }
   ],
   "source": [
    "#Let's drop the brand name Apple\n",
    "\n",
    "col_to_drop = \"brand_name_Apple\"\n",
    "X_train3 = X_train2.loc[:, ~X_train2.columns.str.startswith(col_to_drop)]\n",
    "X_test3 = X_test2.loc[:, ~X_test2.columns.str.startswith(col_to_drop)]\n",
    "\n",
    "# Check VIF now\n",
    "vif = check_vif(X_train3)\n",
    "print(\"VIF after dropping \", col_to_drop)\n",
    "vif"
   ]
  },
  {
   "cell_type": "markdown",
   "metadata": {},
   "source": [
    "The above predictors have no multicollinearity and the assumption is satisfied"
   ]
  },
  {
   "cell_type": "markdown",
   "metadata": {},
   "source": [
    "### Model Performance"
   ]
  },
  {
   "cell_type": "code",
   "execution_count": 188,
   "metadata": {},
   "outputs": [
    {
     "name": "stdout",
     "output_type": "stream",
     "text": [
      "                              OLS Regression Results                             \n",
      "=================================================================================\n",
      "Dep. Variable:     normalized_used_price   R-squared:                       0.844\n",
      "Model:                               OLS   Adj. R-squared:                  0.841\n",
      "Method:                    Least Squares   F-statistic:                     291.3\n",
      "Date:                   Wed, 29 Jun 2022   Prob (F-statistic):               0.00\n",
      "Time:                           13:36:42   Log-Likelihood:                 195.40\n",
      "No. Observations:                   2417   AIC:                            -300.8\n",
      "Df Residuals:                       2372   BIC:                            -40.24\n",
      "Df Model:                             44                                         \n",
      "Covariance Type:               nonrobust                                         \n",
      "=========================================================================================\n",
      "                            coef    std err          t      P>|t|      [0.025      0.975]\n",
      "-----------------------------------------------------------------------------------------\n",
      "const                     1.1578      0.059     19.659      0.000       1.042       1.273\n",
      "screen_size               0.0453      0.004     11.856      0.000       0.038       0.053\n",
      "main_camera_mp            0.0227      0.002     14.333      0.000       0.020       0.026\n",
      "selfie_camera_mp          0.0167      0.002     10.621      0.000       0.014       0.020\n",
      "int_memory                0.0006      0.000      3.442      0.001       0.000       0.001\n",
      "battery                1.134e-05    7.3e-06      1.553      0.121   -2.98e-06    2.57e-05\n",
      "weight                    0.0011      0.000      4.423      0.000       0.001       0.002\n",
      "days_used              6.185e-06   2.55e-05      0.243      0.808   -4.38e-05    5.62e-05\n",
      "normalized_new_price      0.3830      0.012     32.942      0.000       0.360       0.406\n",
      "brand_name_Alcatel       -0.0382      0.031     -1.242      0.214      -0.098       0.022\n",
      "brand_name_Asus           0.0418      0.029      1.419      0.156      -0.016       0.100\n",
      "brand_name_BlackBerry     0.0380      0.059      0.649      0.517      -0.077       0.153\n",
      "brand_name_Celkon        -0.1414      0.054     -2.600      0.009      -0.248      -0.035\n",
      "brand_name_Coolpad        0.0093      0.057      0.163      0.870      -0.103       0.122\n",
      "brand_name_Gionee         0.0137      0.043      0.320      0.749      -0.070       0.098\n",
      "brand_name_Google        -0.0196      0.070     -0.279      0.780      -0.157       0.118\n",
      "brand_name_HTC            0.0067      0.031      0.217      0.828      -0.054       0.067\n",
      "brand_name_Honor         -0.0105      0.031     -0.343      0.732      -0.070       0.049\n",
      "brand_name_Infinix        0.2631      0.104      2.529      0.011       0.059       0.467\n",
      "brand_name_Karbonn       -0.0332      0.055     -0.602      0.548      -0.142       0.075\n",
      "brand_name_LG            -0.0119      0.025     -0.473      0.636      -0.061       0.037\n",
      "brand_name_Lava           0.0189      0.049      0.387      0.699      -0.077       0.115\n",
      "brand_name_Lenovo         0.0011      0.026      0.041      0.967      -0.050       0.052\n",
      "brand_name_Meizu         -0.0444      0.039     -1.149      0.250      -0.120       0.031\n",
      "brand_name_Micromax      -0.0053      0.030     -0.176      0.860      -0.064       0.054\n",
      "brand_name_Microsoft      0.1118      0.070      1.593      0.111      -0.026       0.250\n",
      "brand_name_Motorola      -0.0259      0.031     -0.836      0.403      -0.087       0.035\n",
      "brand_name_Nokia          0.0496      0.034      1.460      0.144      -0.017       0.116\n",
      "brand_name_OnePlus       -0.0312      0.060     -0.522      0.601      -0.148       0.086\n",
      "brand_name_Oppo           0.0208      0.028      0.739      0.460      -0.034       0.076\n",
      "brand_name_Others        -0.0188      0.020     -0.925      0.355      -0.059       0.021\n",
      "brand_name_Panasonic      0.0153      0.047      0.328      0.743      -0.076       0.107\n",
      "brand_name_Realme        -0.0499      0.047     -1.055      0.291      -0.143       0.043\n",
      "brand_name_Samsung        0.0070      0.022      0.322      0.748      -0.036       0.050\n",
      "brand_name_Sony          -0.0149      0.035     -0.430      0.668      -0.083       0.053\n",
      "brand_name_Spice          0.0030      0.056      0.054      0.957      -0.106       0.112\n",
      "brand_name_Vivo          -0.0495      0.030     -1.648      0.099      -0.108       0.009\n",
      "brand_name_XOLO          -0.0333      0.042     -0.794      0.427      -0.116       0.049\n",
      "brand_name_Xiaomi         0.0432      0.029      1.506      0.132      -0.013       0.099\n",
      "brand_name_ZTE           -0.0041      0.027     -0.150      0.881      -0.058       0.050\n",
      "os_Others                -0.0063      0.028     -0.222      0.824      -0.061       0.049\n",
      "os_Windows               -0.0022      0.042     -0.053      0.958      -0.084       0.080\n",
      "os_iOS                    0.0703      0.049      1.428      0.154      -0.026       0.167\n",
      "4g_yes                    0.0332      0.015      2.274      0.023       0.005       0.062\n",
      "5g_yes                    0.0150      0.027      0.547      0.584      -0.039       0.069\n",
      "==============================================================================\n",
      "Omnibus:                      106.197   Durbin-Watson:                   2.008\n",
      "Prob(Omnibus):                  0.000   Jarque-Bera (JB):              162.485\n",
      "Skew:                          -0.391   Prob(JB):                     5.21e-36\n",
      "Kurtosis:                       4.001   Cond. No.                     8.10e+04\n",
      "==============================================================================\n",
      "\n",
      "Notes:\n",
      "[1] Standard Errors assume that the covariance matrix of the errors is correctly specified.\n",
      "[2] The condition number is large, 8.1e+04. This might indicate that there are\n",
      "strong multicollinearity or other numerical problems.\n"
     ]
    }
   ],
   "source": [
    "#Let's now check the model performance\n",
    "olsmod1 = sm.OLS(y_train, X_train3).fit()\n",
    "print(olsmod1.summary())"
   ]
  },
  {
   "cell_type": "code",
   "execution_count": 189,
   "metadata": {},
   "outputs": [
    {
     "name": "stdout",
     "output_type": "stream",
     "text": [
      "['const', 'screen_size', 'main_camera_mp', 'selfie_camera_mp', 'int_memory', 'weight', 'normalized_new_price', 'brand_name_Asus', 'brand_name_Celkon', 'brand_name_Infinix', 'brand_name_Microsoft', 'brand_name_Nokia', 'brand_name_Xiaomi', '4g_yes']\n"
     ]
    }
   ],
   "source": [
    "# initial list of columns\n",
    "cols = X_train3.columns.tolist()\n",
    "\n",
    "# setting an initial max p-value\n",
    "max_p_value = 1\n",
    "\n",
    "# Loop to check for p-values of the variables and drop the column with the highest p-value.\n",
    "while len(cols) > 0:\n",
    "    # defining the train set\n",
    "    X_train_aux = X_train3[cols]\n",
    "\n",
    "    # fitting the model\n",
    "    model = sm.OLS(y_train, X_train_aux).fit()\n",
    "\n",
    "    # getting the p-values and the maximum p-value\n",
    "    p_values = model.pvalues\n",
    "    max_p_value = max(p_values)\n",
    "\n",
    "    # name of the variable with maximum p-value\n",
    "    feature_with_p_max = p_values.idxmax()\n",
    "\n",
    "    if max_p_value > 0.05:\n",
    "        cols.remove(feature_with_p_max)\n",
    "    else:\n",
    "        break\n",
    "\n",
    "selected_features = cols  # variables with p-values lesser than 0.05\n",
    "print(selected_features)"
   ]
  },
  {
   "cell_type": "code",
   "execution_count": 190,
   "metadata": {},
   "outputs": [],
   "source": [
    "# We only use the variables with p-values less than 0.05 to train model\n",
    "\n",
    "X_train4 = X_train3[selected_features]\n",
    "X_test4 = X_test3[selected_features]"
   ]
  },
  {
   "cell_type": "code",
   "execution_count": 191,
   "metadata": {},
   "outputs": [
    {
     "name": "stdout",
     "output_type": "stream",
     "text": [
      "                              OLS Regression Results                             \n",
      "=================================================================================\n",
      "Dep. Variable:     normalized_used_price   R-squared:                       0.843\n",
      "Model:                               OLS   Adj. R-squared:                  0.842\n",
      "Method:                    Least Squares   F-statistic:                     989.8\n",
      "Date:                   Wed, 29 Jun 2022   Prob (F-statistic):               0.00\n",
      "Time:                           13:37:09   Log-Likelihood:                 186.05\n",
      "No. Observations:                   2417   AIC:                            -344.1\n",
      "Df Residuals:                       2403   BIC:                            -263.0\n",
      "Df Model:                             13                                         \n",
      "Covariance Type:               nonrobust                                         \n",
      "========================================================================================\n",
      "                           coef    std err          t      P>|t|      [0.025      0.975]\n",
      "----------------------------------------------------------------------------------------\n",
      "const                    1.0953      0.043     25.237      0.000       1.010       1.180\n",
      "screen_size              0.0461      0.003     13.502      0.000       0.039       0.053\n",
      "main_camera_mp           0.0219      0.001     15.206      0.000       0.019       0.025\n",
      "selfie_camera_mp         0.0165      0.001     11.425      0.000       0.014       0.019\n",
      "int_memory               0.0006      0.000      3.562      0.000       0.000       0.001\n",
      "weight                   0.0013      0.000      5.547      0.000       0.001       0.002\n",
      "normalized_new_price     0.3941      0.010     39.895      0.000       0.375       0.413\n",
      "brand_name_Asus          0.0496      0.025      1.969      0.049       0.000       0.099\n",
      "brand_name_Celkon       -0.1297      0.051     -2.523      0.012      -0.231      -0.029\n",
      "brand_name_Infinix       0.2792      0.102      2.730      0.006       0.079       0.480\n",
      "brand_name_Microsoft     0.1170      0.055      2.135      0.033       0.010       0.225\n",
      "brand_name_Nokia         0.0540      0.027      2.003      0.045       0.001       0.107\n",
      "brand_name_Xiaomi        0.0579      0.024      2.379      0.017       0.010       0.106\n",
      "4g_yes                   0.0432      0.013      3.236      0.001       0.017       0.069\n",
      "==============================================================================\n",
      "Omnibus:                      110.681   Durbin-Watson:                   2.013\n",
      "Prob(Omnibus):                  0.000   Jarque-Bera (JB):              176.577\n",
      "Skew:                          -0.391   Prob(JB):                     4.54e-39\n",
      "Kurtosis:                       4.069   Cond. No.                     3.99e+03\n",
      "==============================================================================\n",
      "\n",
      "Notes:\n",
      "[1] Standard Errors assume that the covariance matrix of the errors is correctly specified.\n",
      "[2] The condition number is large, 3.99e+03. This might indicate that there are\n",
      "strong multicollinearity or other numerical problems.\n"
     ]
    }
   ],
   "source": [
    "olsmod2 = sm.OLS(y_train, X_train4).fit()\n",
    "print(olsmod2.summary())"
   ]
  },
  {
   "cell_type": "code",
   "execution_count": 192,
   "metadata": {},
   "outputs": [
    {
     "data": {
      "text/html": [
       "<div>\n",
       "<style scoped>\n",
       "    .dataframe tbody tr th:only-of-type {\n",
       "        vertical-align: middle;\n",
       "    }\n",
       "\n",
       "    .dataframe tbody tr th {\n",
       "        vertical-align: top;\n",
       "    }\n",
       "\n",
       "    .dataframe thead th {\n",
       "        text-align: right;\n",
       "    }\n",
       "</style>\n",
       "<table border=\"1\" class=\"dataframe\">\n",
       "  <thead>\n",
       "    <tr style=\"text-align: right;\">\n",
       "      <th></th>\n",
       "      <th>Actual Values</th>\n",
       "      <th>Fitted Values</th>\n",
       "      <th>Residuals</th>\n",
       "    </tr>\n",
       "  </thead>\n",
       "  <tbody>\n",
       "    <tr>\n",
       "      <th>1744</th>\n",
       "      <td>4.261975</td>\n",
       "      <td>4.257266</td>\n",
       "      <td>0.004709</td>\n",
       "    </tr>\n",
       "    <tr>\n",
       "      <th>3141</th>\n",
       "      <td>4.175156</td>\n",
       "      <td>3.823937</td>\n",
       "      <td>0.351219</td>\n",
       "    </tr>\n",
       "    <tr>\n",
       "      <th>1233</th>\n",
       "      <td>4.117410</td>\n",
       "      <td>4.465073</td>\n",
       "      <td>-0.347663</td>\n",
       "    </tr>\n",
       "    <tr>\n",
       "      <th>3046</th>\n",
       "      <td>3.782597</td>\n",
       "      <td>3.833754</td>\n",
       "      <td>-0.051157</td>\n",
       "    </tr>\n",
       "    <tr>\n",
       "      <th>2649</th>\n",
       "      <td>3.981922</td>\n",
       "      <td>3.936636</td>\n",
       "      <td>0.045286</td>\n",
       "    </tr>\n",
       "  </tbody>\n",
       "</table>\n",
       "</div>"
      ],
      "text/plain": [
       "      Actual Values  Fitted Values  Residuals\n",
       "1744       4.261975       4.257266   0.004709\n",
       "3141       4.175156       3.823937   0.351219\n",
       "1233       4.117410       4.465073  -0.347663\n",
       "3046       3.782597       3.833754  -0.051157\n",
       "2649       3.981922       3.936636   0.045286"
      ]
     },
     "execution_count": 192,
     "metadata": {},
     "output_type": "execute_result"
    }
   ],
   "source": [
    "# Create a dataframe with actual, fitted and residual values\n",
    "df_pred = pd.DataFrame()\n",
    "\n",
    "df_pred[\"Actual Values\"] = y_train  # actual values\n",
    "df_pred[\"Fitted Values\"] = olsmod2.fittedvalues  # predicted values\n",
    "df_pred[\"Residuals\"] = olsmod2.resid  # residuals\n",
    "\n",
    "df_pred.head()"
   ]
  },
  {
   "cell_type": "code",
   "execution_count": 193,
   "metadata": {},
   "outputs": [
    {
     "data": {
      "image/png": "[encoded data removed]",
      "text/plain": [
       "<Figure size 432x288 with 1 Axes>"
      ]
     },
     "metadata": {
      "needs_background": "light"
     },
     "output_type": "display_data"
    }
   ],
   "source": [
    "# let's plot the fitted values vs residuals\n",
    "\n",
    "sns.residplot(\n",
    "    data=df_pred, x=\"Fitted Values\", y=\"Residuals\", color=\"purple\", lowess=True\n",
    ")\n",
    "plt.xlabel(\"Fitted Values\")\n",
    "plt.ylabel(\"Residuals\")\n",
    "plt.title(\"Fitted vs Residual plot\")\n",
    "plt.show()"
   ]
  },
  {
   "cell_type": "code",
   "execution_count": 194,
   "metadata": {},
   "outputs": [
    {
     "data": {
      "image/png": "[encoded data removed]",
      "text/plain": [
       "<Figure size 432x288 with 1 Axes>"
      ]
     },
     "metadata": {
      "needs_background": "light"
     },
     "output_type": "display_data"
    }
   ],
   "source": [
    "# histogram plot of the residual\n",
    "sns.histplot(data=df_pred, x=\"Residuals\", kde=True)\n",
    "plt.title(\"Normality of residuals\")\n",
    "plt.show()"
   ]
  },
  {
   "cell_type": "code",
   "execution_count": 195,
   "metadata": {},
   "outputs": [
    {
     "data": {
      "image/png": "[encoded data removed]",
      "text/plain": [
       "<Figure size 432x288 with 1 Axes>"
      ]
     },
     "metadata": {
      "needs_background": "light"
     },
     "output_type": "display_data"
    }
   ],
   "source": [
    "import pylab\n",
    "import scipy.stats as stats\n",
    "\n",
    "stats.probplot(df_pred[\"Residuals\"], dist=\"norm\", plot=pylab)\n",
    "plt.show()"
   ]
  },
  {
   "cell_type": "code",
   "execution_count": 196,
   "metadata": {},
   "outputs": [
    {
     "data": {
      "text/plain": [
       "ShapiroResult(statistic=0.9815555214881897, pvalue=3.628552164927984e-17)"
      ]
     },
     "execution_count": 196,
     "metadata": {},
     "output_type": "execute_result"
    }
   ],
   "source": [
    "# Shipiro test for normality\n",
    "stats.shapiro(df_pred[\"Residuals\"])"
   ]
  },
  {
   "cell_type": "markdown",
   "metadata": {},
   "source": [
    "Since p-value < 0.05, the residuals are not normal as per the Shapiro-Wilk test. Strictly speaking, the residuals are not normal. However, as an approximation, we can accept this distribution as close to being normal. So, the assumption is satisfied."
   ]
  },
  {
   "cell_type": "code",
   "execution_count": 197,
   "metadata": {},
   "outputs": [
    {
     "data": {
      "text/plain": [
       "[('F statistic', 0.997979328553367), ('p-value', 0.5139356829863432)]"
      ]
     },
     "execution_count": 197,
     "metadata": {},
     "output_type": "execute_result"
    }
   ],
   "source": [
    "# goldfeldquandt test for homoscedasticity\n",
    "\n",
    "import statsmodels.stats.api as sms\n",
    "from statsmodels.compat import lzip\n",
    "\n",
    "name = [\"F statistic\", \"p-value\"]\n",
    "test = sms.het_goldfeldquandt(df_pred[\"Residuals\"], X_train4)\n",
    "lzip(name, test)"
   ]
  },
  {
   "cell_type": "markdown",
   "metadata": {},
   "source": [
    "Since p-value > 0.05, we can say that the residuals are homoscedastic. So, this assumption is satisfied."
   ]
  },
  {
   "cell_type": "markdown",
   "metadata": {
    "id": "jRYSDgFZMKtm"
   },
   "source": [
    "## Final Model"
   ]
  },
  {
   "cell_type": "code",
   "execution_count": 198,
   "metadata": {
    "id": "x_Sqvs4TMKtn"
   },
   "outputs": [
    {
     "name": "stdout",
     "output_type": "stream",
     "text": [
      "Used Phone Price = 1.0953 + ( 0.0461 )*( screen_size ) +  ( 0.0219 )*( main_camera_mp ) +  ( 0.0165 )*( selfie_camera_mp ) +  ( 0.0006 )*( int_memory ) +  ( 0.0013 )*( weight ) +  ( 0.3941 )*( normalized_new_price ) +  ( 0.0496 )*( brand_name_Asus ) +  ( -0.1297 )*( brand_name_Celkon ) +  ( 0.2792 )*( brand_name_Infinix ) +  ( 0.117 )*( brand_name_Microsoft ) +  ( 0.054 )*( brand_name_Nokia ) +  ( 0.0579 )*( brand_name_Xiaomi ) +  ( 0.0432 )*( 4g_yes )\n"
     ]
    }
   ],
   "source": [
    "# Let's write the equation of linear regression\n",
    "Equation = \"Used Phone Price =\"\n",
    "print(Equation, end=\" \")\n",
    "for i in range(len(X_train4.columns)):\n",
    "    if i == 0:\n",
    "        print(np.round(olsmod2.params[i], 4), \"+\", end=\" \")\n",
    "    elif i != len(X_train4.columns) - 1:\n",
    "        print(\n",
    "            \"(\",\n",
    "            np.round(olsmod2.params[i], 4),\n",
    "            \")*(\",\n",
    "            X_train4.columns[i],\n",
    "            \")\",\n",
    "            \"+\",\n",
    "            end=\"  \",\n",
    "        )\n",
    "    else:\n",
    "        print(\"(\", np.round(olsmod2.params[i], 4), \")*(\", X_train4.columns[i], \")\")"
   ]
  },
  {
   "cell_type": "code",
   "execution_count": 204,
   "metadata": {
    "scrolled": true,
    "tags": []
   },
   "outputs": [
    {
     "data": {
      "text/html": [
       "<div>\n",
       "<style scoped>\n",
       "    .dataframe tbody tr th:only-of-type {\n",
       "        vertical-align: middle;\n",
       "    }\n",
       "\n",
       "    .dataframe tbody tr th {\n",
       "        vertical-align: top;\n",
       "    }\n",
       "\n",
       "    .dataframe thead th {\n",
       "        text-align: right;\n",
       "    }\n",
       "</style>\n",
       "<table border=\"1\" class=\"dataframe\">\n",
       "  <thead>\n",
       "    <tr style=\"text-align: right;\">\n",
       "      <th></th>\n",
       "      <th>Actual</th>\n",
       "      <th>Predicted</th>\n",
       "    </tr>\n",
       "  </thead>\n",
       "  <tbody>\n",
       "    <tr>\n",
       "      <th>1174</th>\n",
       "      <td>4.553772</td>\n",
       "      <td>4.466459</td>\n",
       "    </tr>\n",
       "    <tr>\n",
       "      <th>2247</th>\n",
       "      <td>4.330996</td>\n",
       "      <td>4.104755</td>\n",
       "    </tr>\n",
       "    <tr>\n",
       "      <th>2991</th>\n",
       "      <td>4.180828</td>\n",
       "      <td>3.989298</td>\n",
       "    </tr>\n",
       "    <tr>\n",
       "      <th>2997</th>\n",
       "      <td>4.291007</td>\n",
       "      <td>4.280959</td>\n",
       "    </tr>\n",
       "    <tr>\n",
       "      <th>2982</th>\n",
       "      <td>4.649761</td>\n",
       "      <td>4.625336</td>\n",
       "    </tr>\n",
       "    <tr>\n",
       "      <th>479</th>\n",
       "      <td>4.284689</td>\n",
       "      <td>4.192233</td>\n",
       "    </tr>\n",
       "    <tr>\n",
       "      <th>17</th>\n",
       "      <td>4.777020</td>\n",
       "      <td>4.812072</td>\n",
       "    </tr>\n",
       "    <tr>\n",
       "      <th>471</th>\n",
       "      <td>4.721886</td>\n",
       "      <td>4.428373</td>\n",
       "    </tr>\n",
       "    <tr>\n",
       "      <th>2918</th>\n",
       "      <td>4.482550</td>\n",
       "      <td>4.514520</td>\n",
       "    </tr>\n",
       "    <tr>\n",
       "      <th>602</th>\n",
       "      <td>3.852485</td>\n",
       "      <td>4.110957</td>\n",
       "    </tr>\n",
       "    <tr>\n",
       "      <th>1747</th>\n",
       "      <td>3.867026</td>\n",
       "      <td>4.103013</td>\n",
       "    </tr>\n",
       "    <tr>\n",
       "      <th>2303</th>\n",
       "      <td>3.661251</td>\n",
       "      <td>3.671518</td>\n",
       "    </tr>\n",
       "    <tr>\n",
       "      <th>2269</th>\n",
       "      <td>3.441059</td>\n",
       "      <td>3.482405</td>\n",
       "    </tr>\n",
       "    <tr>\n",
       "      <th>1760</th>\n",
       "      <td>4.271654</td>\n",
       "      <td>4.288872</td>\n",
       "    </tr>\n",
       "    <tr>\n",
       "      <th>2916</th>\n",
       "      <td>4.876647</td>\n",
       "      <td>4.682435</td>\n",
       "    </tr>\n",
       "    <tr>\n",
       "      <th>1977</th>\n",
       "      <td>4.492673</td>\n",
       "      <td>4.431511</td>\n",
       "    </tr>\n",
       "    <tr>\n",
       "      <th>3205</th>\n",
       "      <td>5.411780</td>\n",
       "      <td>5.064205</td>\n",
       "    </tr>\n",
       "    <tr>\n",
       "      <th>256</th>\n",
       "      <td>4.651004</td>\n",
       "      <td>4.463968</td>\n",
       "    </tr>\n",
       "    <tr>\n",
       "      <th>937</th>\n",
       "      <td>4.149622</td>\n",
       "      <td>3.773580</td>\n",
       "    </tr>\n",
       "    <tr>\n",
       "      <th>1902</th>\n",
       "      <td>3.054944</td>\n",
       "      <td>3.422691</td>\n",
       "    </tr>\n",
       "  </tbody>\n",
       "</table>\n",
       "</div>"
      ],
      "text/plain": [
       "        Actual  Predicted\n",
       "1174  4.553772   4.466459\n",
       "2247  4.330996   4.104755\n",
       "2991  4.180828   3.989298\n",
       "2997  4.291007   4.280959\n",
       "2982  4.649761   4.625336\n",
       "479   4.284689   4.192233\n",
       "17    4.777020   4.812072\n",
       "471   4.721886   4.428373\n",
       "2918  4.482550   4.514520\n",
       "602   3.852485   4.110957\n",
       "1747  3.867026   4.103013\n",
       "2303  3.661251   3.671518\n",
       "2269  3.441059   3.482405\n",
       "1760  4.271654   4.288872\n",
       "2916  4.876647   4.682435\n",
       "1977  4.492673   4.431511\n",
       "3205  5.411780   5.064205\n",
       "256   4.651004   4.463968\n",
       "937   4.149622   3.773580\n",
       "1902  3.054944   3.422691"
      ]
     },
     "execution_count": 204,
     "metadata": {},
     "output_type": "execute_result"
    }
   ],
   "source": [
    "# Performing predictions on the test set\n",
    "pred = olsmod2.predict(X_test4)\n",
    "\n",
    "df_pred_test = pd.DataFrame({\"Actual\": y_test, \"Predicted\": pred})\n",
    "df_pred_test.sample(20, random_state=1)"
   ]
  },
  {
   "cell_type": "markdown",
   "metadata": {},
   "source": [
    "Let's visualize these results"
   ]
  },
  {
   "cell_type": "code",
   "execution_count": 200,
   "metadata": {},
   "outputs": [
    {
     "data": {
      "image/png": "[encoded data removed]",
      "text/plain": [
       "<Figure size 1440x504 with 1 Axes>"
      ]
     },
     "metadata": {
      "needs_background": "light"
     },
     "output_type": "display_data"
    }
   ],
   "source": [
    "df2 = df_pred_test.sample(25, random_state=1)\n",
    "df2.plot(kind=\"bar\", figsize=(20, 7))\n",
    "plt.show()"
   ]
  },
  {
   "cell_type": "markdown",
   "metadata": {},
   "source": [
    "#### Let's check the model performance on train set "
   ]
  },
  {
   "cell_type": "code",
   "execution_count": 201,
   "metadata": {},
   "outputs": [
    {
     "name": "stdout",
     "output_type": "stream",
     "text": [
      "Training Performance\n",
      "\n"
     ]
    },
    {
     "data": {
      "text/html": [
       "<div>\n",
       "<style scoped>\n",
       "    .dataframe tbody tr th:only-of-type {\n",
       "        vertical-align: middle;\n",
       "    }\n",
       "\n",
       "    .dataframe tbody tr th {\n",
       "        vertical-align: top;\n",
       "    }\n",
       "\n",
       "    .dataframe thead th {\n",
       "        text-align: right;\n",
       "    }\n",
       "</style>\n",
       "<table border=\"1\" class=\"dataframe\">\n",
       "  <thead>\n",
       "    <tr style=\"text-align: right;\">\n",
       "      <th></th>\n",
       "      <th>RMSE</th>\n",
       "      <th>MAE</th>\n",
       "      <th>R-squared</th>\n",
       "      <th>Adj. R-squared</th>\n",
       "      <th>MAPE</th>\n",
       "    </tr>\n",
       "  </thead>\n",
       "  <tbody>\n",
       "    <tr>\n",
       "      <th>0</th>\n",
       "      <td>0.224043</td>\n",
       "      <td>0.176755</td>\n",
       "      <td>0.842634</td>\n",
       "      <td>0.841717</td>\n",
       "      <td>4.148545</td>\n",
       "    </tr>\n",
       "  </tbody>\n",
       "</table>\n",
       "</div>"
      ],
      "text/plain": [
       "       RMSE       MAE  R-squared  Adj. R-squared      MAPE\n",
       "0  0.224043  0.176755   0.842634        0.841717  4.148545"
      ]
     },
     "execution_count": 201,
     "metadata": {},
     "output_type": "execute_result"
    }
   ],
   "source": [
    "print(\"Training Performance\\n\")\n",
    "olsmod2_train_perf = model_performance_regression(olsmod2, X_train4, y_train)\n",
    "olsmod2_train_perf"
   ]
  },
  {
   "cell_type": "markdown",
   "metadata": {},
   "source": [
    "#### Checking model performance on test set "
   ]
  },
  {
   "cell_type": "code",
   "execution_count": 202,
   "metadata": {},
   "outputs": [
    {
     "name": "stdout",
     "output_type": "stream",
     "text": [
      "Test Performance\n",
      "\n"
     ]
    },
    {
     "data": {
      "text/html": [
       "<div>\n",
       "<style scoped>\n",
       "    .dataframe tbody tr th:only-of-type {\n",
       "        vertical-align: middle;\n",
       "    }\n",
       "\n",
       "    .dataframe tbody tr th {\n",
       "        vertical-align: top;\n",
       "    }\n",
       "\n",
       "    .dataframe thead th {\n",
       "        text-align: right;\n",
       "    }\n",
       "</style>\n",
       "<table border=\"1\" class=\"dataframe\">\n",
       "  <thead>\n",
       "    <tr style=\"text-align: right;\">\n",
       "      <th></th>\n",
       "      <th>RMSE</th>\n",
       "      <th>MAE</th>\n",
       "      <th>R-squared</th>\n",
       "      <th>Adj. R-squared</th>\n",
       "      <th>MAPE</th>\n",
       "    </tr>\n",
       "  </thead>\n",
       "  <tbody>\n",
       "    <tr>\n",
       "      <th>0</th>\n",
       "      <td>0.224399</td>\n",
       "      <td>0.180026</td>\n",
       "      <td>0.838469</td>\n",
       "      <td>0.836256</td>\n",
       "      <td>4.197325</td>\n",
       "    </tr>\n",
       "  </tbody>\n",
       "</table>\n",
       "</div>"
      ],
      "text/plain": [
       "       RMSE       MAE  R-squared  Adj. R-squared      MAPE\n",
       "0  0.224399  0.180026   0.838469        0.836256  4.197325"
      ]
     },
     "execution_count": 202,
     "metadata": {},
     "output_type": "execute_result"
    }
   ],
   "source": [
    "print(\"Test Performance\\n\")\n",
    "olsmod2_test_perf = model_performance_regression(olsmod2, X_test4, y_test)\n",
    "olsmod2_test_perf"
   ]
  },
  {
   "cell_type": "code",
   "execution_count": 203,
   "metadata": {},
   "outputs": [
    {
     "name": "stdout",
     "output_type": "stream",
     "text": [
      "                              OLS Regression Results                             \n",
      "=================================================================================\n",
      "Dep. Variable:     normalized_used_price   R-squared:                       0.843\n",
      "Model:                               OLS   Adj. R-squared:                  0.842\n",
      "Method:                    Least Squares   F-statistic:                     989.8\n",
      "Date:                   Wed, 29 Jun 2022   Prob (F-statistic):               0.00\n",
      "Time:                           13:38:11   Log-Likelihood:                 186.05\n",
      "No. Observations:                   2417   AIC:                            -344.1\n",
      "Df Residuals:                       2403   BIC:                            -263.0\n",
      "Df Model:                             13                                         \n",
      "Covariance Type:               nonrobust                                         \n",
      "========================================================================================\n",
      "                           coef    std err          t      P>|t|      [0.025      0.975]\n",
      "----------------------------------------------------------------------------------------\n",
      "const                    1.0953      0.043     25.237      0.000       1.010       1.180\n",
      "screen_size              0.0461      0.003     13.502      0.000       0.039       0.053\n",
      "main_camera_mp           0.0219      0.001     15.206      0.000       0.019       0.025\n",
      "selfie_camera_mp         0.0165      0.001     11.425      0.000       0.014       0.019\n",
      "int_memory               0.0006      0.000      3.562      0.000       0.000       0.001\n",
      "weight                   0.0013      0.000      5.547      0.000       0.001       0.002\n",
      "normalized_new_price     0.3941      0.010     39.895      0.000       0.375       0.413\n",
      "brand_name_Asus          0.0496      0.025      1.969      0.049       0.000       0.099\n",
      "brand_name_Celkon       -0.1297      0.051     -2.523      0.012      -0.231      -0.029\n",
      "brand_name_Infinix       0.2792      0.102      2.730      0.006       0.079       0.480\n",
      "brand_name_Microsoft     0.1170      0.055      2.135      0.033       0.010       0.225\n",
      "brand_name_Nokia         0.0540      0.027      2.003      0.045       0.001       0.107\n",
      "brand_name_Xiaomi        0.0579      0.024      2.379      0.017       0.010       0.106\n",
      "4g_yes                   0.0432      0.013      3.236      0.001       0.017       0.069\n",
      "==============================================================================\n",
      "Omnibus:                      110.681   Durbin-Watson:                   2.013\n",
      "Prob(Omnibus):                  0.000   Jarque-Bera (JB):              176.577\n",
      "Skew:                          -0.391   Prob(JB):                     4.54e-39\n",
      "Kurtosis:                       4.069   Cond. No.                     3.99e+03\n",
      "==============================================================================\n",
      "\n",
      "Notes:\n",
      "[1] Standard Errors assume that the covariance matrix of the errors is correctly specified.\n",
      "[2] The condition number is large, 3.99e+03. This might indicate that there are\n",
      "strong multicollinearity or other numerical problems.\n"
     ]
    }
   ],
   "source": [
    "olsmodel_final = sm.OLS(y_train, X_train4).fit()\n",
    "print(olsmodel_final.summary())"
   ]
  },
  {
   "cell_type": "markdown",
   "metadata": {
    "id": "2BkZh6eHluZK"
   },
   "source": [
    "## Actionable Insights and Recommendations "
   ]
  },
  {
   "cell_type": "markdown",
   "metadata": {
    "id": "Mh_zkgqs4rqN"
   },
   "source": [
    "### Insights\n",
    "- The linear correlation between normalized_used_price & normalized_new_price when performing exploratory data analysis was found to be strongly positive with a value of 0.83. This reafirms the model validity.\n",
    "- The screen_size, selfie_camera, and int_memory are significant parameters. As these attributes increase, the normalized_used_price, and by default used_price is expected to increase. This evidence is indicated by the positive coefficients for these parameters predicted by the model.\n",
    "- After performing data processing, we note that manufacturers producing expensive brands have the maximum number of used phones with large screen_size and better selfie_camera. Brands that are cheaper have the least number of used phones.\n",
    "- Amidst having moderately positive correlation between the weight of the phone and battery as the battery size increases, the phone's weight and battery have been found to not have significant factors in predicting the normalized_used_price.\n",
    "- Though insignificant, the RAM for the used phones was found have a constant value of ~4GB on average across the dataset. \n",
    "- Similarly, approximately 90% of phones were found to be operating using the Android os. However, this doesn't affect the price prediction.\n",
    "- We have a train mae of 0.176081 and test mae of 0.180888. These values suggests that there is no overfitting in the model.\n",
    "- The linear predictive model is able to predict the normalized_used_price of the phone, explaining approximately 84% of the variance in the data, within a mean absolute percentage error of approximately 4.2%. This indicates that we have built a good model.\n",
    "\n",
    "### Business Recommendations\n",
    "- The EDA gave us an insight into how the different features of a phone may have an impact on the used price of the phone. The ML model indicated which of these features are expected to be significant and which ones are insignificant. Being able to predict the used_price of a phone will guide the business into making price effective purchase and sales strategy to increase revenue.\n",
    "- The supply/stock of used phones as well as demand/popularity in the market are other data points which need to be studied and possibly taken into consideration as the dynamic ML pricing model is refined and retrained. \n",
    "- Lastly, the other important factor the business should consider is the prices offered by competition is another important predictor to be taken into consideration.\n",
    "- 5g network enabled phones have a high resale price and should be focused on. I would also recommend the discontinuation used phones such as Gionee.\n",
    "- In the future, more data ought to be collected on the age of customers purchasing products, since age could be a major drive especially for millenial customers as they may tend to want a 5g or a newer version."
   ]
  },
  {
   "cell_type": "markdown",
   "metadata": {
    "id": "bWXXovuh4rqN"
   },
   "source": [
    "___"
   ]
  }
 ],
 "metadata": {
  "colab": {
   "collapsed_sections": [
    "3SntBY974rqJ",
    "v_-uuGqH-qTt",
    "xxhpZv9y-qTw",
    "UvpMDcaaMKtI",
    "__7ciGcIDPyk",
    "pVn5toJ7MKte",
    "KNzFis7eEaXj",
    "HeUzI1OB4rqM",
    "jvoU3F6oMKti",
    "a9GxSQf-qH8e",
    "jRYSDgFZMKtm",
    "2BkZh6eHluZK"
   ],
   "name": "SLF_Project_LearnerNotebook_FullCode.ipynb",
   "provenance": []
  },
  "kernelspec": {
   "display_name": "Python 3 (ipykernel)",
   "language": "python",
   "name": "python3"
  },
  "language_info": {
   "codemirror_mode": {
    "name": "ipython",
    "version": 3
   },
   "file_extension": ".py",
   "mimetype": "text/x-python",
   "name": "python",
   "nbconvert_exporter": "python",
   "pygments_lexer": "ipython3",
   "version": "3.8.10"
  }
 },
 "nbformat": 4,
 "nbformat_minor": 4
}
